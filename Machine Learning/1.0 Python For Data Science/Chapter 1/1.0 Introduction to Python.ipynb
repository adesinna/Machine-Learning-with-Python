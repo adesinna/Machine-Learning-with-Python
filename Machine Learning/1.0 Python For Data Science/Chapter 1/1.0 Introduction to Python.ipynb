{
 "cells": [
  {
   "cell_type": "markdown",
   "id": "a579bf11",
   "metadata": {},
   "source": [
    "# Introduction to Python"
   ]
  },
  {
   "cell_type": "code",
   "execution_count": 1,
   "id": "30575be8",
   "metadata": {},
   "outputs": [
    {
     "name": "stdout",
     "output_type": "stream",
     "text": [
      "Hello World!\n"
     ]
    }
   ],
   "source": [
    "print(\"Hello World!\")"
   ]
  },
  {
   "cell_type": "code",
   "execution_count": 2,
   "id": "c93c9634",
   "metadata": {},
   "outputs": [
    {
     "name": "stdout",
     "output_type": "stream",
     "text": [
      "Mac is so cool for learning data science\n"
     ]
    }
   ],
   "source": [
    "print(\"Mac is so cool for learning data science\")"
   ]
  },
  {
   "cell_type": "code",
   "execution_count": 3,
   "id": "ad9d1ba3",
   "metadata": {},
   "outputs": [
    {
     "name": "stdout",
     "output_type": "stream",
     "text": [
      "We going big this Christmas\n"
     ]
    }
   ],
   "source": [
    "print('We going big this Christmas')"
   ]
  },
  {
   "cell_type": "code",
   "execution_count": 4,
   "id": "950f201f",
   "metadata": {},
   "outputs": [],
   "source": [
    "#This is how to comment in python \n"
   ]
  },
  {
   "cell_type": "markdown",
   "id": "d982fe78",
   "metadata": {},
   "source": [
    "# Data Types in Python\n"
   ]
  },
  {
   "cell_type": "markdown",
   "id": "5126cd1c",
   "metadata": {},
   "source": [
    "##  Strings"
   ]
  },
  {
   "cell_type": "raw",
   "id": "2d3ea300",
   "metadata": {},
   "source": [
    "Strings are variables in '' or \"\". As long as they are in those quotes they are called strings!"
   ]
  },
  {
   "cell_type": "code",
   "execution_count": 5,
   "id": "410e7278",
   "metadata": {},
   "outputs": [],
   "source": [
    "greeting = \"Hello Shanana\""
   ]
  },
  {
   "cell_type": "code",
   "execution_count": 6,
   "id": "a71c4d09",
   "metadata": {},
   "outputs": [
    {
     "data": {
      "text/plain": [
       "str"
      ]
     },
     "execution_count": 6,
     "metadata": {},
     "output_type": "execute_result"
    }
   ],
   "source": [
    "type(greeting)"
   ]
  },
  {
   "cell_type": "code",
   "execution_count": 7,
   "id": "493626b6",
   "metadata": {},
   "outputs": [],
   "source": [
    "greetings = 'Good Morning' + 'Gutten Morgen'"
   ]
  },
  {
   "cell_type": "code",
   "execution_count": 8,
   "id": "30846a6e",
   "metadata": {},
   "outputs": [
    {
     "name": "stdout",
     "output_type": "stream",
     "text": [
      "Hello Shanana\n"
     ]
    }
   ],
   "source": [
    "print(greeting)"
   ]
  },
  {
   "cell_type": "markdown",
   "id": "270f5622",
   "metadata": {},
   "source": [
    "# Intergers\n"
   ]
  },
  {
   "cell_type": "raw",
   "id": "499d6cdc",
   "metadata": {},
   "source": [
    "Integers are just numbers in Z, they are whole numbers "
   ]
  },
  {
   "cell_type": "code",
   "execution_count": 1,
   "id": "5ea03e85",
   "metadata": {},
   "outputs": [],
   "source": [
    "x = 2"
   ]
  },
  {
   "cell_type": "code",
   "execution_count": 2,
   "id": "413a8b92",
   "metadata": {},
   "outputs": [
    {
     "data": {
      "text/plain": [
       "int"
      ]
     },
     "execution_count": 2,
     "metadata": {},
     "output_type": "execute_result"
    }
   ],
   "source": [
    "type(x)"
   ]
  },
  {
   "cell_type": "raw",
   "id": "a4ddc0ff",
   "metadata": {},
   "source": [
    "Simple Calculations can be done using integers"
   ]
  },
  {
   "cell_type": "code",
   "execution_count": 3,
   "id": "373b2fd1",
   "metadata": {},
   "outputs": [],
   "source": [
    "x = 2\n",
    "y = 4"
   ]
  },
  {
   "cell_type": "code",
   "execution_count": 4,
   "id": "a9606200",
   "metadata": {},
   "outputs": [
    {
     "data": {
      "text/plain": [
       "6"
      ]
     },
     "execution_count": 4,
     "metadata": {},
     "output_type": "execute_result"
    }
   ],
   "source": [
    "x+y"
   ]
  },
  {
   "cell_type": "code",
   "execution_count": 5,
   "id": "d02bf27a",
   "metadata": {},
   "outputs": [
    {
     "data": {
      "text/plain": [
       "-2"
      ]
     },
     "execution_count": 5,
     "metadata": {},
     "output_type": "execute_result"
    }
   ],
   "source": [
    "x-y"
   ]
  },
  {
   "cell_type": "code",
   "execution_count": 6,
   "id": "cf728c1a",
   "metadata": {},
   "outputs": [
    {
     "data": {
      "text/plain": [
       "2.0"
      ]
     },
     "execution_count": 6,
     "metadata": {},
     "output_type": "execute_result"
    }
   ],
   "source": [
    "y/x"
   ]
  },
  {
   "cell_type": "code",
   "execution_count": 7,
   "id": "155ea995",
   "metadata": {},
   "outputs": [
    {
     "data": {
      "text/plain": [
       "4"
      ]
     },
     "execution_count": 7,
     "metadata": {},
     "output_type": "execute_result"
    }
   ],
   "source": [
    "(x**2)"
   ]
  },
  {
   "cell_type": "raw",
   "id": "debe0ee4",
   "metadata": {},
   "source": [
    "You can always check the python documentation for further operations using integers. Python itself does not have much \n",
    "operation you can do, so basically we import a lot of packages. More of that to come later!"
   ]
  },
  {
   "cell_type": "code",
   "execution_count": 8,
   "id": "91a55d0f",
   "metadata": {},
   "outputs": [],
   "source": [
    "import math"
   ]
  },
  {
   "cell_type": "code",
   "execution_count": 12,
   "id": "3a141c46",
   "metadata": {},
   "outputs": [
    {
     "data": {
      "text/plain": [
       "3.0"
      ]
     },
     "execution_count": 12,
     "metadata": {},
     "output_type": "execute_result"
    }
   ],
   "source": [
    "math.sqrt(9)"
   ]
  },
  {
   "cell_type": "markdown",
   "id": "6e3adf67",
   "metadata": {},
   "source": [
    "## Floats"
   ]
  },
  {
   "cell_type": "raw",
   "id": "969ba566",
   "metadata": {},
   "source": [
    "Floats are real numbers, 3.0 is a float whereas 3 is just an integer. Basically it is the difference between Z and R."
   ]
  },
  {
   "cell_type": "code",
   "execution_count": 13,
   "id": "20266674",
   "metadata": {},
   "outputs": [],
   "source": [
    "x = 3.98\n",
    "y = 0.45"
   ]
  },
  {
   "cell_type": "code",
   "execution_count": 14,
   "id": "65862c65",
   "metadata": {},
   "outputs": [
    {
     "data": {
      "text/plain": [
       "1.791"
      ]
     },
     "execution_count": 14,
     "metadata": {},
     "output_type": "execute_result"
    }
   ],
   "source": [
    "x*y"
   ]
  },
  {
   "cell_type": "code",
   "execution_count": 15,
   "id": "2066cc64",
   "metadata": {},
   "outputs": [
    {
     "name": "stdout",
     "output_type": "stream",
     "text": [
      "1.3382824813917276\n"
     ]
    }
   ],
   "source": [
    "print(math.sqrt(x*y))"
   ]
  },
  {
   "cell_type": "markdown",
   "id": "eb9838a0",
   "metadata": {},
   "source": [
    "## Boolean\n"
   ]
  },
  {
   "cell_type": "raw",
   "id": "4fcf91fd",
   "metadata": {},
   "source": [
    "This consists of two types\n",
    "True and False\n",
    "It will be used further down the course, it is also called conditional data type, since it can be use to determine the \n",
    "outcome of a 'code'\n"
   ]
  },
  {
   "cell_type": "code",
   "execution_count": 21,
   "id": "f8e552d9",
   "metadata": {},
   "outputs": [
    {
     "data": {
      "text/plain": [
       "True"
      ]
     },
     "execution_count": 21,
     "metadata": {},
     "output_type": "execute_result"
    }
   ],
   "source": [
    "2 < 4"
   ]
  },
  {
   "cell_type": "code",
   "execution_count": 22,
   "id": "db7ff261",
   "metadata": {},
   "outputs": [
    {
     "data": {
      "text/plain": [
       "False"
      ]
     },
     "execution_count": 22,
     "metadata": {},
     "output_type": "execute_result"
    }
   ],
   "source": [
    "7>45"
   ]
  },
  {
   "cell_type": "code",
   "execution_count": null,
   "id": "d407f8dd",
   "metadata": {},
   "outputs": [],
   "source": []
  }
 ],
 "metadata": {
  "kernelspec": {
   "display_name": "Python 3",
   "language": "python",
   "name": "python3"
  },
  "language_info": {
   "codemirror_mode": {
    "name": "ipython",
    "version": 3
   },
   "file_extension": ".py",
   "mimetype": "text/x-python",
   "name": "python",
   "nbconvert_exporter": "python",
   "pygments_lexer": "ipython3",
   "version": "3.8.8"
  }
 },
 "nbformat": 4,
 "nbformat_minor": 5
}
