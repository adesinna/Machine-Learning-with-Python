{
 "cells": [
  {
   "cell_type": "raw",
   "id": "00d844a4",
   "metadata": {},
   "source": [
    "Booleans or Logical variables are basically True or False"
   ]
  },
  {
   "cell_type": "code",
   "execution_count": 1,
   "id": "89f13a95",
   "metadata": {},
   "outputs": [
    {
     "data": {
      "text/plain": [
       "False"
      ]
     },
     "execution_count": 1,
     "metadata": {},
     "output_type": "execute_result"
    }
   ],
   "source": [
    "3 == 4"
   ]
  },
  {
   "cell_type": "code",
   "execution_count": 2,
   "id": "9c06cdd2",
   "metadata": {},
   "outputs": [
    {
     "data": {
      "text/plain": [
       "True"
      ]
     },
     "execution_count": 2,
     "metadata": {},
     "output_type": "execute_result"
    }
   ],
   "source": [
    "3 < 9"
   ]
  },
  {
   "cell_type": "code",
   "execution_count": 3,
   "id": "4eef0ac7",
   "metadata": {},
   "outputs": [
    {
     "data": {
      "text/plain": [
       "True"
      ]
     },
     "execution_count": 3,
     "metadata": {},
     "output_type": "execute_result"
    }
   ],
   "source": [
    "8 <= 8"
   ]
  },
  {
   "cell_type": "code",
   "execution_count": 5,
   "id": "e0e89192",
   "metadata": {},
   "outputs": [
    {
     "data": {
      "text/plain": [
       "True"
      ]
     },
     "execution_count": 5,
     "metadata": {},
     "output_type": "execute_result"
    }
   ],
   "source": [
    "3 != 8 #Not equal"
   ]
  },
  {
   "cell_type": "code",
   "execution_count": 8,
   "id": "2f223c7f",
   "metadata": {},
   "outputs": [
    {
     "data": {
      "text/plain": [
       "True"
      ]
     },
     "execution_count": 8,
     "metadata": {},
     "output_type": "execute_result"
    }
   ],
   "source": [
    "3 != 4"
   ]
  },
  {
   "cell_type": "code",
   "execution_count": 12,
   "id": "017582cc",
   "metadata": {},
   "outputs": [],
   "source": [
    "result = 6 > 22\n"
   ]
  },
  {
   "cell_type": "code",
   "execution_count": 14,
   "id": "2bccec11",
   "metadata": {},
   "outputs": [],
   "source": [
    "result2 = not(result) #The negation of result"
   ]
  },
  {
   "cell_type": "code",
   "execution_count": 15,
   "id": "11acdf14",
   "metadata": {},
   "outputs": [
    {
     "name": "stdout",
     "output_type": "stream",
     "text": [
      "False\n",
      "True\n"
     ]
    }
   ],
   "source": [
    "print(result)\n",
    "print(result2)"
   ]
  },
  {
   "cell_type": "code",
   "execution_count": 17,
   "id": "b3e6c8a0",
   "metadata": {},
   "outputs": [
    {
     "data": {
      "text/plain": [
       "True"
      ]
     },
     "execution_count": 17,
     "metadata": {},
     "output_type": "execute_result"
    }
   ],
   "source": [
    "result or result2"
   ]
  },
  {
   "cell_type": "code",
   "execution_count": 18,
   "id": "1622cbcd",
   "metadata": {},
   "outputs": [
    {
     "data": {
      "text/plain": [
       "False"
      ]
     },
     "execution_count": 18,
     "metadata": {},
     "output_type": "execute_result"
    }
   ],
   "source": [
    "result and result2"
   ]
  },
  {
   "cell_type": "raw",
   "id": "f236a24d",
   "metadata": {},
   "source": [
    "When you use 'and' both statement must be true for output to be True\n",
    "When you use 'or' one of the statement must be true for output to be True"
   ]
  },
  {
   "cell_type": "code",
   "execution_count": null,
   "id": "8187039f",
   "metadata": {},
   "outputs": [],
   "source": []
  }
 ],
 "metadata": {
  "kernelspec": {
   "display_name": "Python 3",
   "language": "python",
   "name": "python3"
  },
  "language_info": {
   "codemirror_mode": {
    "name": "ipython",
    "version": 3
   },
   "file_extension": ".py",
   "mimetype": "text/x-python",
   "name": "python",
   "nbconvert_exporter": "python",
   "pygments_lexer": "ipython3",
   "version": "3.8.8"
  }
 },
 "nbformat": 4,
 "nbformat_minor": 5
}
