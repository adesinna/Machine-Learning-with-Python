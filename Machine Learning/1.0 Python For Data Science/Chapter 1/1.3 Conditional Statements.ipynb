{
 "cells": [
  {
   "cell_type": "raw",
   "id": "f2e0a876",
   "metadata": {},
   "source": [
    "We have the \n",
    "1. If Statement\n",
    "2. Elif\n",
    "3. Else "
   ]
  },
  {
   "cell_type": "code",
   "execution_count": 1,
   "id": "e2b6f64a",
   "metadata": {},
   "outputs": [
    {
     "name": "stdout",
     "output_type": "stream",
     "text": [
      "1 is odd\n",
      "2 is even\n",
      "3 is odd\n",
      "4 is even\n",
      "5 is odd\n",
      "6 is even\n",
      "7 is odd\n",
      "8 is even\n",
      "9 is odd\n",
      "10 is even\n",
      "11 is odd\n",
      "12 is even\n",
      "13 is odd\n",
      "14 is even\n",
      "15 is odd\n",
      "16 is even\n",
      "17 is odd\n",
      "18 is even\n",
      "19 is odd\n",
      "20 is even\n",
      "21 is odd\n",
      "22 is even\n",
      "23 is odd\n",
      "24 is even\n",
      "25 is odd\n",
      "26 is even\n",
      "27 is odd\n",
      "28 is even\n",
      "29 is odd\n",
      "30 is even\n",
      "31 is odd\n",
      "32 is even\n",
      "33 is odd\n",
      "34 is even\n",
      "35 is odd\n",
      "36 is even\n",
      "37 is odd\n",
      "38 is even\n",
      "39 is odd\n",
      "40 is even\n",
      "41 is odd\n",
      "42 is even\n",
      "43 is odd\n",
      "44 is even\n",
      "45 is odd\n",
      "46 is even\n",
      "47 is odd\n",
      "48 is even\n",
      "49 is odd\n",
      "50 is even\n",
      "51 is odd\n",
      "52 is even\n",
      "53 is odd\n",
      "54 is even\n",
      "55 is odd\n",
      "56 is even\n",
      "57 is odd\n",
      "58 is even\n",
      "59 is odd\n",
      "60 is even\n",
      "61 is odd\n",
      "62 is even\n",
      "63 is odd\n",
      "64 is even\n",
      "65 is odd\n",
      "66 is even\n",
      "67 is odd\n",
      "68 is even\n",
      "69 is odd\n",
      "70 is even\n",
      "71 is odd\n",
      "72 is even\n",
      "73 is odd\n",
      "74 is even\n",
      "75 is odd\n",
      "76 is even\n",
      "77 is odd\n",
      "78 is even\n",
      "79 is odd\n",
      "80 is even\n",
      "81 is odd\n",
      "82 is even\n",
      "83 is odd\n",
      "84 is even\n",
      "85 is odd\n",
      "86 is even\n",
      "87 is odd\n",
      "88 is even\n",
      "89 is odd\n",
      "90 is even\n",
      "91 is odd\n",
      "92 is even\n",
      "93 is odd\n",
      "94 is even\n",
      "95 is odd\n",
      "96 is even\n",
      "97 is odd\n",
      "98 is even\n",
      "99 is odd\n",
      "100 is even\n"
     ]
    }
   ],
   "source": [
    "for number in range(1,101):\n",
    "    if number % 2 == 0:\n",
    "        print(number, 'is even')\n",
    "    else:\n",
    "        print(number, 'is odd')"
   ]
  },
  {
   "cell_type": "raw",
   "id": "aa29f89d",
   "metadata": {},
   "source": [
    "if and else are use to separate dual condition,now lets make it a non dual condition."
   ]
  },
  {
   "cell_type": "code",
   "execution_count": 3,
   "id": "31f4ca58",
   "metadata": {},
   "outputs": [],
   "source": [
    "#To show a number is even or odd"
   ]
  },
  {
   "cell_type": "code",
   "execution_count": 5,
   "id": "d484189c",
   "metadata": {},
   "outputs": [
    {
     "name": "stdout",
     "output_type": "stream",
     "text": [
      "Enter number: 90\n",
      "90 is an even number\n"
     ]
    }
   ],
   "source": [
    "N = int(input('Enter number: '))\n",
    "if N % 2 == 0:\n",
    "    print(N,\"is an even number\")\n",
    "else:\n",
    "    print(N,'is an odd number')\n"
   ]
  },
  {
   "cell_type": "code",
   "execution_count": 6,
   "id": "cf6c4663",
   "metadata": {},
   "outputs": [],
   "source": [
    "#To show a number is prime"
   ]
  },
  {
   "cell_type": "code",
   "execution_count": 13,
   "id": "f492fcbb",
   "metadata": {},
   "outputs": [
    {
     "name": "stdout",
     "output_type": "stream",
     "text": [
      "Enter number: -98\n",
      "Out of range\n"
     ]
    }
   ],
   "source": [
    "N = int(input('Enter number: '))\n",
    "counter = 0\n",
    "if N > 1:\n",
    "    for i in range(1,N+1):\n",
    "        if N%i == 0:\n",
    "            counter = counter + 1\n",
    "    if counter == 2:\n",
    "        print('It is a prime number')\n",
    "    else:\n",
    "        print('It is not a prime')\n",
    "elif N == 1:\n",
    "    print('It is not a prime')\n",
    "else:\n",
    "    print('Out of range')\n",
    "    "
   ]
  },
  {
   "cell_type": "code",
   "execution_count": null,
   "id": "42d1a0e7",
   "metadata": {},
   "outputs": [],
   "source": []
  }
 ],
 "metadata": {
  "kernelspec": {
   "display_name": "Python 3",
   "language": "python",
   "name": "python3"
  },
  "language_info": {
   "codemirror_mode": {
    "name": "ipython",
    "version": 3
   },
   "file_extension": ".py",
   "mimetype": "text/x-python",
   "name": "python",
   "nbconvert_exporter": "python",
   "pygments_lexer": "ipython3",
   "version": "3.8.8"
  }
 },
 "nbformat": 4,
 "nbformat_minor": 5
}
