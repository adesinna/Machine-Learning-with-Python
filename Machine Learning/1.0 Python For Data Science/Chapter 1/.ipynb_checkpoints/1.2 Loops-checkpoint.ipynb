{
 "cells": [
  {
   "cell_type": "raw",
   "id": "a879f3d8",
   "metadata": {},
   "source": [
    "The While Loop"
   ]
  },
  {
   "cell_type": "raw",
   "id": "5b69f6db",
   "metadata": {},
   "source": [
    "How does the while loop works?\n",
    "\n",
    "while(condition):\n",
    "    excutable code 1\n",
    "    excutable code 2\n",
    "         ...\n",
    "    excutable code n\n",
    "    \n",
    "outside excutable code\n",
    "\n",
    "\n",
    "if the condition in the while loop is true, it will excutes all the code in its indentation and goes back to check the\n",
    "condition whether it is still true, until the condition is false.\n",
    "Then it goes to the outside excutable code."
   ]
  },
  {
   "cell_type": "code",
   "execution_count": 9,
   "id": "ca60ff67",
   "metadata": {},
   "outputs": [
    {
     "name": "stdout",
     "output_type": "stream",
     "text": [
      "0\n",
      "1\n",
      "2\n",
      "3\n",
      "4\n",
      "5\n",
      "6\n",
      "7\n",
      "8\n",
      "9\n",
      "10\n",
      "11\n",
      "12\n",
      "13\n",
      "14\n",
      "15\n",
      "16\n",
      "17\n",
      "18\n",
      "19\n",
      "20\n",
      "21\n",
      "22\n",
      "23\n",
      "24\n",
      "25\n",
      "26\n",
      "27\n",
      "28\n",
      "29\n",
      "30\n",
      "31\n",
      "32\n",
      "33\n",
      "34\n",
      "35\n",
      "36\n",
      "37\n",
      "38\n",
      "39\n",
      "40\n",
      "41\n",
      "42\n",
      "43\n",
      "44\n",
      "45\n",
      "46\n",
      "47\n",
      "48\n",
      "49\n",
      "50\n",
      "51\n",
      "52\n",
      "53\n",
      "54\n",
      "55\n",
      "56\n",
      "57\n",
      "58\n",
      "59\n",
      "60\n",
      "61\n",
      "62\n",
      "63\n",
      "64\n",
      "65\n",
      "66\n",
      "67\n",
      "68\n",
      "69\n",
      "70\n",
      "71\n",
      "72\n",
      "73\n",
      "74\n",
      "75\n",
      "76\n",
      "77\n",
      "78\n",
      "79\n",
      "80\n",
      "81\n",
      "82\n",
      "83\n",
      "84\n",
      "85\n",
      "86\n",
      "87\n",
      "88\n",
      "89\n",
      "90\n",
      "91\n",
      "92\n",
      "93\n",
      "94\n",
      "95\n",
      "96\n",
      "97\n",
      "98\n",
      "99\n",
      "done\n"
     ]
    }
   ],
   "source": [
    "counter = 0 #Initial condition\n",
    "while(counter < 100):\n",
    "    print(counter)          #It prints the value counter\n",
    "    counter = counter + 1   #It gives counter a new value of counter + 1, counter += 1 also can be used\n",
    "print('done')"
   ]
  },
  {
   "cell_type": "raw",
   "id": "060abe55",
   "metadata": {},
   "source": [
    "Next is for loop, the for loop is used mostly with the range function. No initial condition is given like the while."
   ]
  },
  {
   "cell_type": "code",
   "execution_count": 11,
   "id": "78671197",
   "metadata": {},
   "outputs": [
    {
     "name": "stdout",
     "output_type": "stream",
     "text": [
      "0\n",
      "1\n",
      "2\n",
      "3\n",
      "4\n",
      "5\n",
      "6\n",
      "7\n",
      "8\n",
      "9\n",
      "10\n",
      "done\n"
     ]
    }
   ],
   "source": [
    "for i in range(0,11):\n",
    "    print(i)\n",
    "print('done')"
   ]
  },
  {
   "cell_type": "code",
   "execution_count": 13,
   "id": "90265c99",
   "metadata": {},
   "outputs": [
    {
     "data": {
      "text/plain": [
       "range(0, 5)"
      ]
     },
     "execution_count": 13,
     "metadata": {},
     "output_type": "execute_result"
    }
   ],
   "source": [
    "range(5)"
   ]
  },
  {
   "cell_type": "code",
   "execution_count": 14,
   "id": "c1f6c2c4",
   "metadata": {},
   "outputs": [
    {
     "data": {
      "text/plain": [
       "[0, 1, 2, 3]"
      ]
     },
     "execution_count": 14,
     "metadata": {},
     "output_type": "execute_result"
    }
   ],
   "source": [
    "list(range(4))"
   ]
  },
  {
   "cell_type": "code",
   "execution_count": 16,
   "id": "465da18d",
   "metadata": {},
   "outputs": [
    {
     "name": "stdout",
     "output_type": "stream",
     "text": [
      "Hello number 0\n",
      "Hello number 1\n",
      "Hello number 2\n",
      "Hello number 3\n",
      "Hello number 4\n",
      "Hello number 5\n",
      "Hello number 6\n",
      "Hello number 7\n",
      "Hello number 8\n",
      "Hello number 9\n",
      "done\n"
     ]
    }
   ],
   "source": [
    "for i in range(10):\n",
    "    print('Hello number', i) #the values in this are called arguments\n",
    "print('done')"
   ]
  },
  {
   "cell_type": "code",
   "execution_count": 17,
   "id": "d7235cfc",
   "metadata": {},
   "outputs": [],
   "source": [
    "mylist = ['Shanana', 'Oluwaseun', 'Adesina', 'Shanalee']"
   ]
  },
  {
   "cell_type": "code",
   "execution_count": 19,
   "id": "cd51731d",
   "metadata": {},
   "outputs": [
    {
     "name": "stdout",
     "output_type": "stream",
     "text": [
      "I can be called Shanana\n",
      "I can be called Oluwaseun\n",
      "I can be called Adesina\n",
      "I can be called Shanalee\n"
     ]
    }
   ],
   "source": [
    "for name in mylist:              #it will iterate the list with identity of anything before the 'in' word\n",
    "    print('I can be called', name)"
   ]
  },
  {
   "cell_type": "raw",
   "id": "7e5bdb13",
   "metadata": {},
   "source": [
    "You can use both while and for loop to get what you want.\n",
    "But most times while loop is used with an initial condition and if you want the condition to change in the code use while.\n",
    "for loop is use with a list."
   ]
  },
  {
   "cell_type": "code",
   "execution_count": null,
   "id": "56a4bdb1",
   "metadata": {},
   "outputs": [],
   "source": []
  }
 ],
 "metadata": {
  "kernelspec": {
   "display_name": "Python 3",
   "language": "python",
   "name": "python3"
  },
  "language_info": {
   "codemirror_mode": {
    "name": "ipython",
    "version": 3
   },
   "file_extension": ".py",
   "mimetype": "text/x-python",
   "name": "python",
   "nbconvert_exporter": "python",
   "pygments_lexer": "ipython3",
   "version": "3.8.8"
  }
 },
 "nbformat": 4,
 "nbformat_minor": 5
}
