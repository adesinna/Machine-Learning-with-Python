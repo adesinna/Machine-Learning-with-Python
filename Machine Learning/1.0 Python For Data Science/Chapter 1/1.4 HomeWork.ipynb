{
 "cells": [
  {
   "cell_type": "raw",
   "id": "a88b9e70",
   "metadata": {},
   "source": [
    "We want to prove the law of large number\n",
    "We test it on normally distributed "
   ]
  },
  {
   "cell_type": "code",
   "execution_count": 1,
   "id": "19393eeb",
   "metadata": {},
   "outputs": [],
   "source": [
    "import numpy as np\n"
   ]
  },
  {
   "cell_type": "code",
   "execution_count": 2,
   "id": "a343c692",
   "metadata": {},
   "outputs": [],
   "source": [
    "from numpy.random import randn"
   ]
  },
  {
   "cell_type": "code",
   "execution_count": 3,
   "id": "a0711b5b",
   "metadata": {},
   "outputs": [
    {
     "data": {
      "text/plain": [
       "0.8752449472406444"
      ]
     },
     "execution_count": 3,
     "metadata": {},
     "output_type": "execute_result"
    }
   ],
   "source": [
    "randn() #This gives a normally distributed random variable"
   ]
  },
  {
   "cell_type": "code",
   "execution_count": 4,
   "id": "7e9a2987",
   "metadata": {},
   "outputs": [
    {
     "name": "stdout",
     "output_type": "stream",
     "text": [
      "0.20277910431449858\n",
      "This number is between -1 and 1\n"
     ]
    }
   ],
   "source": [
    "answer = None #if answer can take different value, let it be none at the beginning \n",
    "number = randn()\n",
    "if number > 1:\n",
    "    answer = 'This number is greater than 1'\n",
    "elif -1 < number <1:\n",
    "    answer = 'This number is between -1 and 1'\n",
    "else:\n",
    "    answer = 'This number is less than -1'\n",
    "print(number)\n",
    "print(answer)\n",
    "    "
   ]
  },
  {
   "cell_type": "raw",
   "id": "89a5045d",
   "metadata": {},
   "source": [
    "Test the law of large numbers for N normally distributed numbers, and show that the expected value converges to 0.682\n",
    "as N tends to infinity."
   ]
  },
  {
   "cell_type": "code",
   "execution_count": 8,
   "id": "9388dcdb",
   "metadata": {},
   "outputs": [
    {
     "name": "stdout",
     "output_type": "stream",
     "text": [
      "Enter the value of N: 10000000\n",
      "0.6825005\n"
     ]
    }
   ],
   "source": [
    "N = int(input('Enter the value of N: '))\n",
    "counter = 0\n",
    "numbers = randn(N)\n",
    "for number in randn(N):\n",
    "    if -1< number < 1:\n",
    "        counter = counter + 1\n",
    "Expected = counter/N\n",
    "print(Expected)"
   ]
  },
  {
   "cell_type": "code",
   "execution_count": null,
   "id": "cbd38f83",
   "metadata": {},
   "outputs": [],
   "source": []
  },
  {
   "cell_type": "code",
   "execution_count": null,
   "id": "6d60d87b",
   "metadata": {},
   "outputs": [],
   "source": []
  },
  {
   "cell_type": "code",
   "execution_count": null,
   "id": "3187fad1",
   "metadata": {},
   "outputs": [],
   "source": []
  }
 ],
 "metadata": {
  "kernelspec": {
   "display_name": "Python 3",
   "language": "python",
   "name": "python3"
  },
  "language_info": {
   "codemirror_mode": {
    "name": "ipython",
    "version": 3
   },
   "file_extension": ".py",
   "mimetype": "text/x-python",
   "name": "python",
   "nbconvert_exporter": "python",
   "pygments_lexer": "ipython3",
   "version": "3.8.8"
  }
 },
 "nbformat": 4,
 "nbformat_minor": 5
}
