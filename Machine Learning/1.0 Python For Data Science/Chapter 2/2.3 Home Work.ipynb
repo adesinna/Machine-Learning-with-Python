{
 "cells": [
  {
   "cell_type": "code",
   "execution_count": 3,
   "metadata": {},
   "outputs": [],
   "source": [
    "#Data\n",
    "revenue = [14574.49, 7606.46, 8611.41, 9175.41, 8058.65, 8105.44, 11496.28, 9766.09, 10305.32, 14379.96, 10713.97, 15433.50]\n",
    "expenses = [12051.82, 5695.07, 12319.20, 12089.72, 8658.57, 840.20, 3285.73, 5821.12, 6976.93, 16618.61, 10054.37, 3803.96]"
   ]
  },
  {
   "cell_type": "raw",
   "metadata": {},
   "source": [
    "Scenario: You are a Data Scientist working for a consulting firm. One of your\n",
    "colleagues from the Auditing department has asked you to help them assess the\n",
    "financial statement of organisation X.\n",
    "You have been supplied with two lists of data: monthly revenue and monthly expenses for the financial year in question. Your task is to calculate the following\n",
    "financial metrics:\n",
    "- profit for each month\n",
    "- profit after tax for each month (the tax rate is 30%)\n",
    "- profit margin for each month - equals to profit after tax divided by revenue\n",
    "- good months - where the profit after tax was greater than the mean for the year\n",
    "- bad months - where the profit after tax was less than the mean for the year\n",
    "- the best month - where the profit after tax was max for the year\n",
    "- the worst month - where the profit after tax was min for the year"
   ]
  },
  {
   "cell_type": "code",
   "execution_count": 4,
   "metadata": {},
   "outputs": [],
   "source": [
    "#Profit for each month"
   ]
  },
  {
   "cell_type": "code",
   "execution_count": 9,
   "metadata": {},
   "outputs": [
    {
     "name": "stdout",
     "output_type": "stream",
     "text": [
      "[2522.67, 1911.39, -3707.79, -2914.31, -599.92, 7265.24, 8210.55, 3944.97, 3328.39, -2238.65, 659.6, 11629.54]\n"
     ]
    }
   ],
   "source": [
    "profit = []\n",
    "for i in range(0,12):\n",
    "    profit.append(revenue[i]-expenses[i])\n",
    "rounded_profit = [round(i,2) for i in profit]\n",
    "print(rounded_profit)"
   ]
  },
  {
   "cell_type": "code",
   "execution_count": 10,
   "metadata": {},
   "outputs": [],
   "source": [
    "#Profit after tax"
   ]
  },
  {
   "cell_type": "code",
   "execution_count": 13,
   "metadata": {},
   "outputs": [
    {
     "name": "stdout",
     "output_type": "stream",
     "text": [
      "[756.8, 573.42, -1112.34, -874.29, -179.98, 2179.57, 2463.16, 1183.49, 998.52, -671.6, 197.88, 3488.86]\n"
     ]
    }
   ],
   "source": [
    "profit_after_tax = [round(i*0.3,2) for i in rounded_profit]\n",
    "print(profit_after_tax)"
   ]
  },
  {
   "cell_type": "code",
   "execution_count": 15,
   "metadata": {},
   "outputs": [
    {
     "name": "stdout",
     "output_type": "stream",
     "text": [
      "[0.05, 0.08, -0.13, -0.1, -0.02, 0.27, 0.21, 0.12, 0.1, -0.05, 0.02, 0.23]\n"
     ]
    }
   ],
   "source": [
    "#Profit Margin\n",
    "profit_margin = [round((profit_after_tax[i]/revenue[i]),2) for i in range(0,12)]\n",
    "print(profit_margin)"
   ]
  },
  {
   "cell_type": "code",
   "execution_count": 17,
   "metadata": {},
   "outputs": [
    {
     "name": "stdout",
     "output_type": "stream",
     "text": [
      "750.29\n"
     ]
    }
   ],
   "source": [
    "#mean\n",
    "profit_mean = round(sum(profit_after_tax)/12,2)\n",
    "print(profit_mean)"
   ]
  },
  {
   "cell_type": "code",
   "execution_count": 40,
   "metadata": {},
   "outputs": [
    {
     "name": "stdout",
     "output_type": "stream",
     "text": [
      "0\n",
      "5\n",
      "6\n",
      "7\n",
      "8\n",
      "11\n",
      "[756.8, 2179.57, 2463.16, 1183.49, 998.52, 3488.86]\n"
     ]
    }
   ],
   "source": [
    "#good_months\n",
    "good_months = []\n",
    "for i in profit_after_tax:\n",
    "    if i > profit_mean:\n",
    "        good_months.append(i)\n",
    "        print(profit_after_tax.index(i))\n",
    "print(good_months)\n",
    "\n",
    "\n",
    "\n",
    "    "
   ]
  },
  {
   "cell_type": "code",
   "execution_count": 41,
   "metadata": {},
   "outputs": [
    {
     "name": "stdout",
     "output_type": "stream",
     "text": [
      "1\n",
      "2\n",
      "3\n",
      "4\n",
      "9\n",
      "10\n",
      "12\n",
      "[573.42, -1112.34, -874.29, -179.98, -671.6, 197.88, 0]\n"
     ]
    }
   ],
   "source": [
    "#good_months\n",
    "bad_months = []\n",
    "for i in profit_after_tax:\n",
    "    if i < profit_mean:\n",
    "        bad_months.append(i)\n",
    "        print(profit_after_tax.index(i))\n",
    "print(bad_months)\n"
   ]
  },
  {
   "cell_type": "code",
   "execution_count": 49,
   "metadata": {},
   "outputs": [
    {
     "name": "stdout",
     "output_type": "stream",
     "text": [
      "11\n"
     ]
    },
    {
     "data": {
      "text/plain": [
       "3488.86"
      ]
     },
     "execution_count": 49,
     "metadata": {},
     "output_type": "execute_result"
    }
   ],
   "source": [
    "#best month\n",
    "max(good_months)\n",
    "for i in profit_after_tax:\n",
    "    if i == max(good_months):\n",
    "        print(profit_after_tax.index(i))\n",
    "max(good_months)"
   ]
  },
  {
   "cell_type": "code",
   "execution_count": 51,
   "metadata": {},
   "outputs": [
    {
     "name": "stdout",
     "output_type": "stream",
     "text": [
      "2\n",
      "-1112.34\n"
     ]
    }
   ],
   "source": [
    "#worst month\n",
    "min(bad_months)\n",
    "for i in profit_after_tax:\n",
    "    if i == min(bad_months):\n",
    "        print(profit_after_tax.index(i))\n",
    "print(min(bad_months))"
   ]
  },
  {
   "cell_type": "code",
   "execution_count": null,
   "metadata": {},
   "outputs": [],
   "source": []
  }
 ],
 "metadata": {
  "kernelspec": {
   "display_name": "Python 3",
   "language": "python",
   "name": "python3"
  },
  "language_info": {
   "codemirror_mode": {
    "name": "ipython",
    "version": 3
   },
   "file_extension": ".py",
   "mimetype": "text/x-python",
   "name": "python",
   "nbconvert_exporter": "python",
   "pygments_lexer": "ipython3",
   "version": "3.8.8"
  }
 },
 "nbformat": 4,
 "nbformat_minor": 1
}
