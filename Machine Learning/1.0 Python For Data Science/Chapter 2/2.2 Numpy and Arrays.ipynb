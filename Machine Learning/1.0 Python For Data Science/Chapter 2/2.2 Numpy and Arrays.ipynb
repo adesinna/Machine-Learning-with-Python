{
 "cells": [
  {
   "cell_type": "raw",
   "id": "b8c9e850",
   "metadata": {},
   "source": [
    "Since we be working as a data scientist and machine learning engineer.\n",
    "Creating arrays is really easy with Numpy.\n",
    "We do this by creating a list and use np.array() function to change it to an array."
   ]
  },
  {
   "cell_type": "code",
   "execution_count": 1,
   "id": "f9647f00",
   "metadata": {},
   "outputs": [],
   "source": [
    "import numpy as np"
   ]
  },
  {
   "cell_type": "code",
   "execution_count": 2,
   "id": "5670c94e",
   "metadata": {},
   "outputs": [],
   "source": [
    "list1 = list(range(1,101))"
   ]
  },
  {
   "cell_type": "code",
   "execution_count": 3,
   "id": "b6e54c8e",
   "metadata": {},
   "outputs": [],
   "source": [
    "array1 = np.array(list1)"
   ]
  },
  {
   "cell_type": "code",
   "execution_count": 4,
   "id": "66f6fa63",
   "metadata": {},
   "outputs": [
    {
     "name": "stdout",
     "output_type": "stream",
     "text": [
      "[  1   2   3   4   5   6   7   8   9  10  11  12  13  14  15  16  17  18\n",
      "  19  20  21  22  23  24  25  26  27  28  29  30  31  32  33  34  35  36\n",
      "  37  38  39  40  41  42  43  44  45  46  47  48  49  50  51  52  53  54\n",
      "  55  56  57  58  59  60  61  62  63  64  65  66  67  68  69  70  71  72\n",
      "  73  74  75  76  77  78  79  80  81  82  83  84  85  86  87  88  89  90\n",
      "  91  92  93  94  95  96  97  98  99 100]\n"
     ]
    }
   ],
   "source": [
    "print(array1)"
   ]
  },
  {
   "cell_type": "code",
   "execution_count": 5,
   "id": "00834812",
   "metadata": {},
   "outputs": [
    {
     "data": {
      "text/plain": [
       "array([0, 1, 2, 3, 4, 5, 6, 7, 8])"
      ]
     },
     "execution_count": 5,
     "metadata": {},
     "output_type": "execute_result"
    }
   ],
   "source": [
    "np.arange(0,9) #This np.arange will make a list"
   ]
  },
  {
   "cell_type": "raw",
   "id": "72943c33",
   "metadata": {},
   "source": [
    "The data type is must be homogeneous type, if not it will be changed to string.\n"
   ]
  },
  {
   "cell_type": "code",
   "execution_count": 6,
   "id": "652b7f45",
   "metadata": {},
   "outputs": [],
   "source": [
    "X = np.array([True, 2.3,-2,'You'])"
   ]
  },
  {
   "cell_type": "code",
   "execution_count": 7,
   "id": "90acf9a6",
   "metadata": {},
   "outputs": [
    {
     "name": "stdout",
     "output_type": "stream",
     "text": [
      "['True' '2.3' '-2' 'You']\n"
     ]
    }
   ],
   "source": [
    "print(X)"
   ]
  },
  {
   "cell_type": "raw",
   "id": "1fc16ddb",
   "metadata": {},
   "source": [
    "Because python is an OOP, arrays gives you access to methods, than just ordinary list"
   ]
  },
  {
   "cell_type": "code",
   "execution_count": 8,
   "id": "5f371b46",
   "metadata": {},
   "outputs": [
    {
     "data": {
      "text/plain": [
       "100"
      ]
     },
     "execution_count": 8,
     "metadata": {},
     "output_type": "execute_result"
    }
   ],
   "source": [
    "array1.max()"
   ]
  },
  {
   "cell_type": "code",
   "execution_count": 9,
   "id": "7aae4f99",
   "metadata": {},
   "outputs": [
    {
     "data": {
      "text/plain": [
       "array([[  1,   2,   3,   4,   5,   6,   7,   8,   9,  10,  11,  12,  13,\n",
       "         14,  15,  16,  17,  18,  19,  20,  21,  22,  23,  24,  25,  26,\n",
       "         27,  28,  29,  30,  31,  32,  33,  34,  35,  36,  37,  38,  39,\n",
       "         40,  41,  42,  43,  44,  45,  46,  47,  48,  49,  50],\n",
       "       [ 51,  52,  53,  54,  55,  56,  57,  58,  59,  60,  61,  62,  63,\n",
       "         64,  65,  66,  67,  68,  69,  70,  71,  72,  73,  74,  75,  76,\n",
       "         77,  78,  79,  80,  81,  82,  83,  84,  85,  86,  87,  88,  89,\n",
       "         90,  91,  92,  93,  94,  95,  96,  97,  98,  99, 100]])"
      ]
     },
     "execution_count": 9,
     "metadata": {},
     "output_type": "execute_result"
    }
   ],
   "source": [
    "array1.reshape(2,50)"
   ]
  },
  {
   "cell_type": "code",
   "execution_count": 10,
   "id": "2faa76a7",
   "metadata": {},
   "outputs": [
    {
     "data": {
      "text/plain": [
       "50.5"
      ]
     },
     "execution_count": 10,
     "metadata": {},
     "output_type": "execute_result"
    }
   ],
   "source": [
    "array1.mean()"
   ]
  },
  {
   "cell_type": "raw",
   "id": "f29ea421",
   "metadata": {},
   "source": [
    "Arrays too can be sliced just like list, but you are only making a view not a copy"
   ]
  },
  {
   "cell_type": "code",
   "execution_count": 11,
   "id": "d9446042",
   "metadata": {},
   "outputs": [
    {
     "data": {
      "text/plain": [
       "array([  1,   2,   3,   4,   5,   6,   7,   8,   9,  10,  11,  12,  13,\n",
       "        14,  15,  16,  17,  18,  19,  20,  21,  22,  23,  24,  25,  26,\n",
       "        27,  28,  29,  30,  31,  32,  33,  34,  35,  36,  37,  38,  39,\n",
       "        40,  41,  42,  43,  44,  45,  46,  47,  48,  49,  50,  51,  52,\n",
       "        53,  54,  55,  56,  57,  58,  59,  60,  61,  62,  63,  64,  65,\n",
       "        66,  67,  68,  69,  70,  71,  72,  73,  74,  75,  76,  77,  78,\n",
       "        79,  80,  81,  82,  83,  84,  85,  86,  87,  88,  89,  90,  91,\n",
       "        92,  93,  94,  95,  96,  97,  98,  99, 100])"
      ]
     },
     "execution_count": 11,
     "metadata": {},
     "output_type": "execute_result"
    }
   ],
   "source": [
    "array1"
   ]
  },
  {
   "cell_type": "code",
   "execution_count": 14,
   "id": "61d36768",
   "metadata": {},
   "outputs": [],
   "source": [
    "b = array1[50:61]"
   ]
  },
  {
   "cell_type": "code",
   "execution_count": 15,
   "id": "889de8ab",
   "metadata": {},
   "outputs": [
    {
     "data": {
      "text/plain": [
       "array([51, 52, 53, 54, 55, 56, 57, 58, 59, 60, 61])"
      ]
     },
     "execution_count": 15,
     "metadata": {},
     "output_type": "execute_result"
    }
   ],
   "source": [
    "b"
   ]
  },
  {
   "cell_type": "code",
   "execution_count": 16,
   "id": "8f757ff4",
   "metadata": {},
   "outputs": [],
   "source": [
    "b[:] = 0"
   ]
  },
  {
   "cell_type": "code",
   "execution_count": 17,
   "id": "40b1f681",
   "metadata": {},
   "outputs": [
    {
     "data": {
      "text/plain": [
       "array([  1,   2,   3,   4,   5,   6,   7,   8,   9,  10,  11,  12,  13,\n",
       "        14,  15,  16,  17,  18,  19,  20,  21,  22,  23,  24,  25,  26,\n",
       "        27,  28,  29,  30,  31,  32,  33,  34,  35,  36,  37,  38,  39,\n",
       "        40,  41,  42,  43,  44,  45,  46,  47,  48,  49,  50,   0,   0,\n",
       "         0,   0,   0,   0,   0,   0,   0,   0,   0,  62,  63,  64,  65,\n",
       "        66,  67,  68,  69,  70,  71,  72,  73,  74,  75,  76,  77,  78,\n",
       "        79,  80,  81,  82,  83,  84,  85,  86,  87,  88,  89,  90,  91,\n",
       "        92,  93,  94,  95,  96,  97,  98,  99, 100])"
      ]
     },
     "execution_count": 17,
     "metadata": {},
     "output_type": "execute_result"
    }
   ],
   "source": [
    "array1"
   ]
  },
  {
   "cell_type": "raw",
   "id": "aaf98071",
   "metadata": {},
   "source": [
    "So everything you do with b is reflected in array1 unlike list, array1 will not be affected by the change in b."
   ]
  },
  {
   "cell_type": "code",
   "execution_count": 18,
   "id": "d4266ae3",
   "metadata": {},
   "outputs": [],
   "source": [
    "a1 = [1,23,44,5]"
   ]
  },
  {
   "cell_type": "code",
   "execution_count": 20,
   "id": "130795c0",
   "metadata": {},
   "outputs": [],
   "source": [
    "b1 = a1[0]"
   ]
  },
  {
   "cell_type": "code",
   "execution_count": 21,
   "id": "b1e57677",
   "metadata": {},
   "outputs": [],
   "source": [
    "b1 = 0"
   ]
  },
  {
   "cell_type": "code",
   "execution_count": 22,
   "id": "8a90c184",
   "metadata": {},
   "outputs": [
    {
     "data": {
      "text/plain": [
       "[1, 23, 44, 5]"
      ]
     },
     "execution_count": 22,
     "metadata": {},
     "output_type": "execute_result"
    }
   ],
   "source": [
    "a1"
   ]
  },
  {
   "cell_type": "code",
   "execution_count": 23,
   "id": "87ea5d32",
   "metadata": {},
   "outputs": [
    {
     "data": {
      "text/plain": [
       "0"
      ]
     },
     "execution_count": 23,
     "metadata": {},
     "output_type": "execute_result"
    }
   ],
   "source": [
    "b1"
   ]
  },
  {
   "cell_type": "raw",
   "id": "e33684e3",
   "metadata": {},
   "source": [
    "a1 does not change because it is a list. So arrays will be affected by what happens to their subsets."
   ]
  },
  {
   "cell_type": "code",
   "execution_count": null,
   "id": "e132ee3c",
   "metadata": {},
   "outputs": [],
   "source": []
  }
 ],
 "metadata": {
  "kernelspec": {
   "display_name": "Python 3",
   "language": "python",
   "name": "python3"
  },
  "language_info": {
   "codemirror_mode": {
    "name": "ipython",
    "version": 3
   },
   "file_extension": ".py",
   "mimetype": "text/x-python",
   "name": "python",
   "nbconvert_exporter": "python",
   "pygments_lexer": "ipython3",
   "version": "3.8.8"
  }
 },
 "nbformat": 4,
 "nbformat_minor": 5
}
