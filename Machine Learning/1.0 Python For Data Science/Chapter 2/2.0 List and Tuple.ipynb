{
 "cells": [
  {
   "cell_type": "raw",
   "id": "f6e9d3af",
   "metadata": {},
   "source": [
    "List in python can use to store information, it can have different data types. They are always in [].\n",
    "You can also list a range of numbers or give it an argument "
   ]
  },
  {
   "cell_type": "code",
   "execution_count": 1,
   "id": "888896fd",
   "metadata": {},
   "outputs": [],
   "source": [
    "myFirstList = ['a', 2, True, -2.36]"
   ]
  },
  {
   "cell_type": "code",
   "execution_count": 2,
   "id": "a49c293a",
   "metadata": {},
   "outputs": [
    {
     "data": {
      "text/plain": [
       "list"
      ]
     },
     "execution_count": 2,
     "metadata": {},
     "output_type": "execute_result"
    }
   ],
   "source": [
    "type(myFirstList)"
   ]
  },
  {
   "cell_type": "code",
   "execution_count": 3,
   "id": "b9528d62",
   "metadata": {},
   "outputs": [],
   "source": [
    "list1 = list(range(9))\n",
    "list2 = ['k','j']\n",
    "listN = [list1,list2]"
   ]
  },
  {
   "cell_type": "code",
   "execution_count": 4,
   "id": "58fef48f",
   "metadata": {},
   "outputs": [
    {
     "data": {
      "text/plain": [
       "[[0, 1, 2, 3, 4, 5, 6, 7, 8], ['k', 'j']]"
      ]
     },
     "execution_count": 4,
     "metadata": {},
     "output_type": "execute_result"
    }
   ],
   "source": [
    "listN"
   ]
  },
  {
   "cell_type": "raw",
   "id": "80568994",
   "metadata": {},
   "source": [
    "List Indexation starts from 0,1,... You can use indexation to access the element of the list. \n"
   ]
  },
  {
   "cell_type": "code",
   "execution_count": 5,
   "id": "9c8327ca",
   "metadata": {},
   "outputs": [
    {
     "data": {
      "text/plain": [
       "8"
      ]
     },
     "execution_count": 5,
     "metadata": {},
     "output_type": "execute_result"
    }
   ],
   "source": [
    "list1[8]"
   ]
  },
  {
   "cell_type": "code",
   "execution_count": 6,
   "id": "9b9e31f3",
   "metadata": {},
   "outputs": [
    {
     "data": {
      "text/plain": [
       "['k', 'j']"
      ]
     },
     "execution_count": 6,
     "metadata": {},
     "output_type": "execute_result"
    }
   ],
   "source": [
    "listN[1]"
   ]
  },
  {
   "cell_type": "raw",
   "id": "1ae0729b",
   "metadata": {},
   "source": [
    "To create list, lets talk about range first, range(a,b) means it will iterate from a to b-1.\n",
    "range(a,b,c) here c is the step.\n",
    "Then you can use the function list() to actually display them in []."
   ]
  },
  {
   "cell_type": "code",
   "execution_count": 10,
   "id": "a012e82e",
   "metadata": {},
   "outputs": [
    {
     "name": "stdout",
     "output_type": "stream",
     "text": [
      "[2, 5, 8]\n"
     ]
    }
   ],
   "source": [
    "W = list(range(2,10,3))\n",
    "print(W)"
   ]
  },
  {
   "cell_type": "raw",
   "id": "c9d8f0e7",
   "metadata": {},
   "source": [
    "To access the list, we use the indexation to access List[ith] will get the ith element putting it in mind that indexation starts from zero.\n",
    "W[:] will give everything\n",
    "W[:-1] will give you all except the last one."
   ]
  },
  {
   "cell_type": "code",
   "execution_count": 11,
   "id": "275115c7",
   "metadata": {},
   "outputs": [
    {
     "data": {
      "text/plain": [
       "[2, 5]"
      ]
     },
     "execution_count": 11,
     "metadata": {},
     "output_type": "execute_result"
    }
   ],
   "source": [
    "W[:-1]"
   ]
  },
  {
   "cell_type": "code",
   "execution_count": 12,
   "id": "48c3a0ce",
   "metadata": {},
   "outputs": [
    {
     "data": {
      "text/plain": [
       "[2, 5, 8]"
      ]
     },
     "execution_count": 12,
     "metadata": {},
     "output_type": "execute_result"
    }
   ],
   "source": [
    "W[:]"
   ]
  },
  {
   "cell_type": "code",
   "execution_count": 13,
   "id": "6bf06b73",
   "metadata": {},
   "outputs": [
    {
     "data": {
      "text/plain": [
       "[2, 5, 8]"
      ]
     },
     "execution_count": 13,
     "metadata": {},
     "output_type": "execute_result"
    }
   ],
   "source": [
    "W[-3:]"
   ]
  },
  {
   "cell_type": "raw",
   "id": "7eacdb63",
   "metadata": {},
   "source": [
    "Slicing of list is just taking a subset of the list.\n",
    "subset = list[a:b:c] means get a to b-1, with step c"
   ]
  },
  {
   "cell_type": "code",
   "execution_count": 16,
   "id": "0229c9bc",
   "metadata": {},
   "outputs": [],
   "source": [
    "Set = list(range(0,101))\n"
   ]
  },
  {
   "cell_type": "code",
   "execution_count": 17,
   "id": "c6746d7e",
   "metadata": {},
   "outputs": [
    {
     "name": "stdout",
     "output_type": "stream",
     "text": [
      "[0, 2, 4, 6, 8, 10, 12, 14, 16, 18, 20, 22, 24, 26, 28, 30, 32, 34, 36, 38, 40, 42, 44, 46, 48]\n"
     ]
    }
   ],
   "source": [
    "subset = Set[0:50:2]\n",
    "print(subset)"
   ]
  },
  {
   "cell_type": "code",
   "execution_count": 19,
   "id": "592edaed",
   "metadata": {},
   "outputs": [
    {
     "name": "stdout",
     "output_type": "stream",
     "text": [
      "[100, 99, 98, 97, 96, 95, 94, 93, 92, 91, 90, 89, 88, 87, 86, 85, 84, 83, 82, 81, 80, 79, 78, 77, 76, 75, 74, 73, 72, 71, 70, 69, 68, 67, 66, 65, 64, 63, 62, 61, 60, 59, 58, 57, 56, 55, 54, 53, 52, 51, 50, 49, 48, 47, 46, 45, 44, 43, 42, 41, 40, 39, 38, 37, 36, 35, 34, 33, 32, 31, 30, 29, 28, 27, 26, 25, 24, 23, 22, 21, 20, 19, 18, 17, 16, 15, 14, 13, 12, 11, 10, 9, 8, 7, 6, 5, 4, 3, 2, 1, 0]\n"
     ]
    }
   ],
   "source": [
    "print(Set[: : -1])"
   ]
  },
  {
   "cell_type": "raw",
   "id": "772a9c41",
   "metadata": {},
   "source": [
    "Tuple are just immutable list\n",
    "tuple(a,b)"
   ]
  },
  {
   "cell_type": "code",
   "execution_count": 20,
   "id": "c46e1032",
   "metadata": {},
   "outputs": [
    {
     "name": "stdout",
     "output_type": "stream",
     "text": [
      "(0, 1, 2, 3, 4, 5, 6, 7, 8, 9)\n"
     ]
    }
   ],
   "source": [
    "Tuple1 = tuple(range(10))\n",
    "print(Tuple1)"
   ]
  },
  {
   "cell_type": "code",
   "execution_count": null,
   "id": "b6502949",
   "metadata": {},
   "outputs": [],
   "source": []
  }
 ],
 "metadata": {
  "kernelspec": {
   "display_name": "Python 3",
   "language": "python",
   "name": "python3"
  },
  "language_info": {
   "codemirror_mode": {
    "name": "ipython",
    "version": 3
   },
   "file_extension": ".py",
   "mimetype": "text/x-python",
   "name": "python",
   "nbconvert_exporter": "python",
   "pygments_lexer": "ipython3",
   "version": "3.8.8"
  }
 },
 "nbformat": 4,
 "nbformat_minor": 5
}
