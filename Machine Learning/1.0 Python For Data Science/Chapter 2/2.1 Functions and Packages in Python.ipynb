{
 "cells": [
  {
   "cell_type": "raw",
   "id": "198c01db",
   "metadata": {},
   "source": [
    "Functions are like blenders, input some fruits(arguments) and give out a smoothie(output of this function)"
   ]
  },
  {
   "cell_type": "code",
   "execution_count": 2,
   "id": "47f78cf0",
   "metadata": {},
   "outputs": [
    {
     "data": {
      "text/plain": [
       "1"
      ]
     },
     "execution_count": 2,
     "metadata": {},
     "output_type": "execute_result"
    }
   ],
   "source": [
    "len({3})"
   ]
  },
  {
   "cell_type": "code",
   "execution_count": 7,
   "id": "a2a0e53f",
   "metadata": {},
   "outputs": [
    {
     "data": {
      "text/plain": [
       "9"
      ]
     },
     "execution_count": 7,
     "metadata": {},
     "output_type": "execute_result"
    }
   ],
   "source": [
    "len(list(range(9)))"
   ]
  },
  {
   "cell_type": "code",
   "execution_count": 8,
   "id": "7406bafa",
   "metadata": {},
   "outputs": [
    {
     "name": "stdout",
     "output_type": "stream",
     "text": [
      "This is also a function\n"
     ]
    }
   ],
   "source": [
    "print('This is also a function')"
   ]
  },
  {
   "cell_type": "code",
   "execution_count": 9,
   "id": "dd72967e",
   "metadata": {},
   "outputs": [
    {
     "data": {
      "text/plain": [
       "range"
      ]
     },
     "execution_count": 9,
     "metadata": {},
     "output_type": "execute_result"
    }
   ],
   "source": [
    "type(range(44))"
   ]
  },
  {
   "cell_type": "raw",
   "id": "791fce0f",
   "metadata": {},
   "source": [
    "Python core does not have a glut of functions, so it depends heavily on packages."
   ]
  },
  {
   "cell_type": "raw",
   "id": "8843f5bb",
   "metadata": {},
   "source": [
    "Packages is a collection of modules\n",
    "To install a package download it first on your mac then, go to terminal and press command T to get a new window.\n",
    "Next use:\n",
    "conda install 'packagename' or pip install 'packagename'"
   ]
  },
  {
   "cell_type": "code",
   "execution_count": 10,
   "id": "1bd3db09",
   "metadata": {},
   "outputs": [],
   "source": [
    "import scrapy   #Importing the total package"
   ]
  },
  {
   "cell_type": "code",
   "execution_count": 12,
   "id": "3b72f193",
   "metadata": {},
   "outputs": [],
   "source": [
    "from scrapy.crawler import CrawlerProcess #Import a specific function"
   ]
  },
  {
   "cell_type": "code",
   "execution_count": null,
   "id": "a51a0ea5",
   "metadata": {},
   "outputs": [],
   "source": []
  }
 ],
 "metadata": {
  "kernelspec": {
   "display_name": "Python 3",
   "language": "python",
   "name": "python3"
  },
  "language_info": {
   "codemirror_mode": {
    "name": "ipython",
    "version": 3
   },
   "file_extension": ".py",
   "mimetype": "text/x-python",
   "name": "python",
   "nbconvert_exporter": "python",
   "pygments_lexer": "ipython3",
   "version": "3.8.8"
  }
 },
 "nbformat": 4,
 "nbformat_minor": 5
}
