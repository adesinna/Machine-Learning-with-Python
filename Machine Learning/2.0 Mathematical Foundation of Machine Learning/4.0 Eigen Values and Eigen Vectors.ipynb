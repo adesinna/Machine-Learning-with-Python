{
  "nbformat": 4,
  "nbformat_minor": 0,
  "metadata": {
    "colab": {
      "name": "4.0 Eigen Vectors and Eigen Values.ipynb",
      "provenance": []
    },
    "kernelspec": {
      "name": "python3",
      "display_name": "Python 3"
    },
    "language_info": {
      "name": "python"
    }
  },
  "cells": [
    {
      "cell_type": "code",
      "execution_count": 1,
      "metadata": {
        "id": "qI89lY-6CBu6"
      },
      "outputs": [],
      "source": [
        "import numpy as np\n",
        "import tensorflow as tf\n",
        "import torch \n",
        "import matplotlib.pyplot as plt"
      ]
    },
    {
      "cell_type": "markdown",
      "source": [
        "##Affine Transformation of Matrices"
      ],
      "metadata": {
        "id": "SwcLgPd1E8pg"
      }
    },
    {
      "cell_type": "code",
      "source": [
        "#Suppose v is a vector\n",
        "v = np.array([3,1])"
      ],
      "metadata": {
        "id": "Y5dYj4WRFEi4"
      },
      "execution_count": 2,
      "outputs": []
    },
    {
      "cell_type": "code",
      "source": [
        "#We can plot the vector using the function\n",
        "def plot_vectors(vectors, colors):\n",
        "    \"\"\"\n",
        "    Plot one or more vectors in a 2D plane, specifying a color for each. \n",
        "\n",
        "    Arguments\n",
        "    ---------\n",
        "    vectors: list of lists or of arrays\n",
        "        Coordinates of the vectors to plot. For example, [[1, 3], [2, 2]] \n",
        "        contains two vectors to plot, [1, 3] and [2, 2].\n",
        "    colors: list\n",
        "        Colors of the vectors. For instance: ['red', 'blue'] will display the\n",
        "        first vector in red and the second in blue.\n",
        "        \n",
        "    Example\n",
        "    -------\n",
        "    plot_vectors([[1, 3], [2, 2]], ['red', 'blue'])\n",
        "    plt.xlim(-1, 4)\n",
        "    plt.ylim(-1, 4)\n",
        "    \"\"\"\n",
        "    plt.figure()\n",
        "    plt.axvline(x=0, color='lightgray')\n",
        "    plt.axhline(y=0, color='lightgray')\n",
        "\n",
        "    for i in range(len(vectors)):\n",
        "        x = np.concatenate([[0,0],vectors[i]])\n",
        "        plt.quiver([x[0]], [x[1]], [x[2]], [x[3]],\n",
        "                   angles='xy', scale_units='xy', scale=1, color=colors[i],)\n"
      ],
      "metadata": {
        "id": "TmTpIrLPFaGB"
      },
      "execution_count": 3,
      "outputs": []
    },
    {
      "cell_type": "code",
      "source": [
        "plot_vectors([v],['blue'])\n",
        "plt.xlim(-1, 5)\n",
        "_ = plt.ylim(-1, 5)"
      ],
      "metadata": {
        "colab": {
          "base_uri": "https://localhost:8080/",
          "height": 269
        },
        "id": "vPaM1KkXIc91",
        "outputId": "33919061-7f62-4b79-d8cb-dbf0d870fdd2"
      },
      "execution_count": 4,
      "outputs": [
        {
          "output_type": "display_data",
          "data": {
            "image/png": "[encoded data removed]",
            "text/plain": [
              "<Figure size 432x288 with 1 Axes>"
            ]
          },
          "metadata": {
            "needs_background": "light"
          }
        }
      ]
    },
    {
      "cell_type": "code",
      "source": [
        "plot_vectors([[1, 3], [2, 2]], ['red', 'blue'])\n",
        "plt.xlim(-1, 4)\n",
        "plt.ylim(-1, 4)"
      ],
      "metadata": {
        "colab": {
          "base_uri": "https://localhost:8080/",
          "height": 286
        },
        "id": "0ul36z02Ikqd",
        "outputId": "ff5c00b0-7288-4d41-82a9-ce194641dfbe"
      },
      "execution_count": 5,
      "outputs": [
        {
          "output_type": "execute_result",
          "data": {
            "text/plain": [
              "(-1.0, 4.0)"
            ]
          },
          "metadata": {},
          "execution_count": 5
        },
        {
          "output_type": "display_data",
          "data": {
            "image/png": "[encoded data removed]",
            "text/plain": [
              "<Figure size 432x288 with 1 Axes>"
            ]
          },
          "metadata": {
            "needs_background": "light"
          }
        }
      ]
    },
    {
      "cell_type": "code",
      "source": [
        "#We can transform vectors by multiplying it by a matrix"
      ],
      "metadata": {
        "id": "iyUZNVqYJg48"
      },
      "execution_count": 6,
      "outputs": []
    },
    {
      "cell_type": "code",
      "source": [
        "I = np.array([[1, 0], [0, 1]])\n",
        "I"
      ],
      "metadata": {
        "colab": {
          "base_uri": "https://localhost:8080/"
        },
        "id": "XfzXDCUsNdfu",
        "outputId": "05c6a58e-2a8e-475b-de92-97ca7935d68e"
      },
      "execution_count": 7,
      "outputs": [
        {
          "output_type": "execute_result",
          "data": {
            "text/plain": [
              "array([[1, 0],\n",
              "       [0, 1]])"
            ]
          },
          "metadata": {},
          "execution_count": 7
        }
      ]
    },
    {
      "cell_type": "code",
      "source": [
        "Iv = np.dot(I, v)\n",
        "Iv"
      ],
      "metadata": {
        "colab": {
          "base_uri": "https://localhost:8080/"
        },
        "id": "wW1gZ57-NeRD",
        "outputId": "687ec545-fed5-4fd6-b69a-3a660d2b951f"
      },
      "execution_count": 8,
      "outputs": [
        {
          "output_type": "execute_result",
          "data": {
            "text/plain": [
              "array([3, 1])"
            ]
          },
          "metadata": {},
          "execution_count": 8
        }
      ]
    },
    {
      "cell_type": "markdown",
      "source": [
        "##In contrast, consider this matrix (let's call it  𝐸 ) that flips vectors over the  𝑥 -axis:"
      ],
      "metadata": {
        "id": "YJQRVG8FNoCl"
      }
    },
    {
      "cell_type": "code",
      "source": [
        "E = np.array([[1, 0], [0, -1]])\n",
        "E"
      ],
      "metadata": {
        "colab": {
          "base_uri": "https://localhost:8080/"
        },
        "id": "kvUe9l_lNhv0",
        "outputId": "174c551e-2350-4247-c358-ec931e399a78"
      },
      "execution_count": 9,
      "outputs": [
        {
          "output_type": "execute_result",
          "data": {
            "text/plain": [
              "array([[ 1,  0],\n",
              "       [ 0, -1]])"
            ]
          },
          "metadata": {},
          "execution_count": 9
        }
      ]
    },
    {
      "cell_type": "code",
      "source": [
        "#Now consider Ev\n",
        "Ev = np.dot(E, v)\n",
        "Ev"
      ],
      "metadata": {
        "colab": {
          "base_uri": "https://localhost:8080/"
        },
        "id": "2G4cZVR8Nu7T",
        "outputId": "d1c94747-2980-4b60-ba81-b60d8d8c6353"
      },
      "execution_count": 10,
      "outputs": [
        {
          "output_type": "execute_result",
          "data": {
            "text/plain": [
              "array([ 3, -1])"
            ]
          },
          "metadata": {},
          "execution_count": 10
        }
      ]
    },
    {
      "cell_type": "code",
      "source": [
        "#We plot both vectors together \n",
        "plot_vectors([v, Ev], ['blue', 'green'])\n",
        "plt.xlim(-1, 5)\n",
        "_ = plt.ylim(-3, 3)"
      ],
      "metadata": {
        "colab": {
          "base_uri": "https://localhost:8080/",
          "height": 269
        },
        "id": "dW1VLiIkN2Jw",
        "outputId": "cb43a639-078d-4aa1-9247-2c9d5bfc5eac"
      },
      "execution_count": 11,
      "outputs": [
        {
          "output_type": "display_data",
          "data": {
            "image/png": "[encoded data removed]",
            "text/plain": [
              "<Figure size 432x288 with 1 Axes>"
            ]
          },
          "metadata": {
            "needs_background": "light"
          }
        }
      ]
    },
    {
      "cell_type": "code",
      "source": [
        "#We see that the vector v has been transformed over the x axis"
      ],
      "metadata": {
        "id": "QG1kcOcBOB1e"
      },
      "execution_count": 12,
      "outputs": []
    },
    {
      "cell_type": "markdown",
      "source": [
        "##Consider another matrix  𝐹 which flips vectors over the  𝑦 -axis:"
      ],
      "metadata": {
        "id": "xuPaq23kObq9"
      }
    },
    {
      "cell_type": "code",
      "source": [
        "F = np.array([[-1, 0], [0, 1]])\n",
        "F "
      ],
      "metadata": {
        "colab": {
          "base_uri": "https://localhost:8080/"
        },
        "id": "hICBboHUOL8Q",
        "outputId": "de86c2aa-012f-4ded-fd50-aee513248a89"
      },
      "execution_count": 13,
      "outputs": [
        {
          "output_type": "execute_result",
          "data": {
            "text/plain": [
              "array([[-1,  0],\n",
              "       [ 0,  1]])"
            ]
          },
          "metadata": {},
          "execution_count": 13
        }
      ]
    },
    {
      "cell_type": "code",
      "source": [
        "Fv = np.dot(F, v)\n",
        "Fv"
      ],
      "metadata": {
        "colab": {
          "base_uri": "https://localhost:8080/"
        },
        "id": "H-qB_V4eOmhP",
        "outputId": "ea35af0d-e828-415e-97cf-006d806494f3"
      },
      "execution_count": 14,
      "outputs": [
        {
          "output_type": "execute_result",
          "data": {
            "text/plain": [
              "array([-3,  1])"
            ]
          },
          "metadata": {},
          "execution_count": 14
        }
      ]
    },
    {
      "cell_type": "code",
      "source": [
        "plot_vectors([v, Fv], ['blue', 'green'])\n",
        "plt.xlim(-4, 4)\n",
        "_ = plt.ylim(-1, 5)"
      ],
      "metadata": {
        "colab": {
          "base_uri": "https://localhost:8080/",
          "height": 269
        },
        "id": "uMASWufXOqHL",
        "outputId": "70d14592-e7ee-4639-b508-33b243c8bce3"
      },
      "execution_count": 15,
      "outputs": [
        {
          "output_type": "display_data",
          "data": {
            "image/png": "[encoded data removed]",
            "text/plain": [
              "<Figure size 432x288 with 1 Axes>"
            ]
          },
          "metadata": {
            "needs_background": "light"
          }
        }
      ]
    },
    {
      "cell_type": "code",
      "source": [
        "#We see that the vector v has been transformed over the y axis"
      ],
      "metadata": {
        "id": "QviDGzS9Ow09"
      },
      "execution_count": 16,
      "outputs": []
    },
    {
      "cell_type": "markdown",
      "source": [
        "Applying a flipping matrix is an example of an affine transformation: a change in geometry that may adjust distances or angles between vectors, but preserves parallelism between them.\n",
        "\n",
        "In addition to flipping a matrix over an axis (a.k.a., reflection), other common affine transformations include:\n",
        "\n",
        "Scaling (changing the length of vectors)\n",
        "\n",
        "Shearing (example of this on the Mona Lisa coming up shortly)\n",
        "\n",
        "Rotation\n",
        "\n",
        "A matrix can both rotate and reflect a vector"
      ],
      "metadata": {
        "id": "cNpzf7AnPI-E"
      }
    },
    {
      "cell_type": "code",
      "source": [
        "A = np.array([[-1, 4], [2, -2]])\n",
        "A"
      ],
      "metadata": {
        "colab": {
          "base_uri": "https://localhost:8080/"
        },
        "id": "D8sd-_yPO2O4",
        "outputId": "b014e52a-c409-4d2b-8fba-0bd8f78817f9"
      },
      "execution_count": 17,
      "outputs": [
        {
          "output_type": "execute_result",
          "data": {
            "text/plain": [
              "array([[-1,  4],\n",
              "       [ 2, -2]])"
            ]
          },
          "metadata": {},
          "execution_count": 17
        }
      ]
    },
    {
      "cell_type": "code",
      "source": [
        "Av = np.dot(A, v)\n",
        "Av"
      ],
      "metadata": {
        "colab": {
          "base_uri": "https://localhost:8080/"
        },
        "id": "IuFv5srAQMR5",
        "outputId": "7563c96c-a714-476e-a342-0fa5344c933e"
      },
      "execution_count": 18,
      "outputs": [
        {
          "output_type": "execute_result",
          "data": {
            "text/plain": [
              "array([1, 4])"
            ]
          },
          "metadata": {},
          "execution_count": 18
        }
      ]
    },
    {
      "cell_type": "code",
      "source": [
        "plot_vectors([v, Av], ['blue', 'green'])\n",
        "plt.xlim(-1, 5)\n",
        "_ = plt.ylim(-1, 5)"
      ],
      "metadata": {
        "colab": {
          "base_uri": "https://localhost:8080/",
          "height": 269
        },
        "id": "8BoRTgvqQQPp",
        "outputId": "f80ee3e5-d77c-4da9-8a07-866976b9200e"
      },
      "execution_count": 19,
      "outputs": [
        {
          "output_type": "display_data",
          "data": {
            "image/png": "[encoded data removed]",
            "text/plain": [
              "<Figure size 432x288 with 1 Axes>"
            ]
          },
          "metadata": {
            "needs_background": "light"
          }
        }
      ]
    },
    {
      "cell_type": "markdown",
      "source": [
        "If we have a matrix which each columns are vectors that are linearly independent, then we can transform these vectors"
      ],
      "metadata": {
        "id": "3MJSqWOMRddj"
      }
    },
    {
      "cell_type": "code",
      "source": [
        "#Consider\n",
        "v1 = np.array([3, 1])\n",
        "v2 = np.array([2, 1])\n",
        "v3 = np.array([-3, -1])\n",
        "v4 = np.array([-1, 1])"
      ],
      "metadata": {
        "id": "SUB19zZnQVqG"
      },
      "execution_count": 20,
      "outputs": []
    },
    {
      "cell_type": "code",
      "source": [
        "print(v1)\n",
        "print(np.matrix(v).T)\n"
      ],
      "metadata": {
        "colab": {
          "base_uri": "https://localhost:8080/"
        },
        "id": "0HrrDNN1SOmz",
        "outputId": "141e390f-eaae-4cac-bfb0-396bf2278e64"
      },
      "execution_count": 21,
      "outputs": [
        {
          "output_type": "stream",
          "name": "stdout",
          "text": [
            "[3 1]\n",
            "[[3]\n",
            " [1]]\n"
          ]
        }
      ]
    },
    {
      "cell_type": "code",
      "source": [
        "#We need to change them all to column vectors"
      ],
      "metadata": {
        "id": "3JRL28JRSeX9"
      },
      "execution_count": 22,
      "outputs": []
    },
    {
      "cell_type": "code",
      "source": [
        "V = np.concatenate((np.matrix(v).T, \n",
        "                    np.matrix(v2).T,\n",
        "                    np.matrix(v3).T,\n",
        "                    np.matrix(v4).T), \n",
        "                   axis=1)\n",
        "V"
      ],
      "metadata": {
        "colab": {
          "base_uri": "https://localhost:8080/"
        },
        "id": "e8zDCIOHS6dJ",
        "outputId": "e4eb1b13-8ef6-4447-93fa-e75950ce05b7"
      },
      "execution_count": 23,
      "outputs": [
        {
          "output_type": "execute_result",
          "data": {
            "text/plain": [
              "matrix([[ 3,  2, -3, -1],\n",
              "        [ 1,  1, -1,  1]])"
            ]
          },
          "metadata": {},
          "execution_count": 23
        }
      ]
    },
    {
      "cell_type": "code",
      "source": [
        "IV = np.dot(I, V)\n",
        "IV"
      ],
      "metadata": {
        "colab": {
          "base_uri": "https://localhost:8080/"
        },
        "id": "y-_IMxeCS7LS",
        "outputId": "4c1bcce6-bd11-4fd4-a46d-47f436adb9c3"
      },
      "execution_count": 24,
      "outputs": [
        {
          "output_type": "execute_result",
          "data": {
            "text/plain": [
              "matrix([[ 3,  2, -3, -1],\n",
              "        [ 1,  1, -1,  1]])"
            ]
          },
          "metadata": {},
          "execution_count": 24
        }
      ]
    },
    {
      "cell_type": "code",
      "source": [
        "#Consider"
      ],
      "metadata": {
        "id": "GjXfpRUqTAN5"
      },
      "execution_count": 25,
      "outputs": []
    },
    {
      "cell_type": "code",
      "source": [
        "# function to convert column of matrix to 1D vector: \n",
        "def vectorfy(mtrx, clmn):\n",
        "    return np.array(mtrx[:,clmn]).reshape(-1)"
      ],
      "metadata": {
        "id": "2NhEN-1TTG-J"
      },
      "execution_count": 26,
      "outputs": []
    },
    {
      "cell_type": "code",
      "source": [
        "vectorfy(V, 2)"
      ],
      "metadata": {
        "colab": {
          "base_uri": "https://localhost:8080/"
        },
        "id": "8G6rhPzFTHvA",
        "outputId": "3c510457-60b3-41e8-e15c-c1305d94c7e2"
      },
      "execution_count": 27,
      "outputs": [
        {
          "output_type": "execute_result",
          "data": {
            "text/plain": [
              "array([-3, -1])"
            ]
          },
          "metadata": {},
          "execution_count": 27
        }
      ]
    },
    {
      "cell_type": "code",
      "source": [
        "A"
      ],
      "metadata": {
        "colab": {
          "base_uri": "https://localhost:8080/"
        },
        "id": "K-chtHKxTSy7",
        "outputId": "397e09ba-81f7-41e4-daed-acf072526168"
      },
      "execution_count": 28,
      "outputs": [
        {
          "output_type": "execute_result",
          "data": {
            "text/plain": [
              "array([[-1,  4],\n",
              "       [ 2, -2]])"
            ]
          },
          "metadata": {},
          "execution_count": 28
        }
      ]
    },
    {
      "cell_type": "code",
      "source": [
        "#We can use A to do transformation on each column"
      ],
      "metadata": {
        "id": "0bSvXQxlTbzV"
      },
      "execution_count": 29,
      "outputs": []
    },
    {
      "cell_type": "code",
      "source": [
        "AV = np.dot(A, V)\n",
        "AV"
      ],
      "metadata": {
        "colab": {
          "base_uri": "https://localhost:8080/"
        },
        "id": "eGfeuAlmTsDQ",
        "outputId": "706e1a50-7da5-45b3-c2ca-6f10d63cf5e6"
      },
      "execution_count": 30,
      "outputs": [
        {
          "output_type": "execute_result",
          "data": {
            "text/plain": [
              "matrix([[ 1,  2, -1,  5],\n",
              "        [ 4,  2, -4, -4]])"
            ]
          },
          "metadata": {},
          "execution_count": 30
        }
      ]
    },
    {
      "cell_type": "code",
      "source": [
        "plot_vectors([vectorfy(V, 0), vectorfy(V, 1), vectorfy(V, 2), vectorfy(V, 3),\n",
        "             vectorfy(AV, 0), vectorfy(AV, 1), vectorfy(AV, 2), vectorfy(AV, 3)], \n",
        "            ['lightblue', 'lightgreen', 'lightgray', 'orange',\n",
        "             'blue', 'green', 'gray', 'red'])\n",
        "plt.xlim(-4, 6)\n",
        "_ = plt.ylim(-5, 5)"
      ],
      "metadata": {
        "colab": {
          "base_uri": "https://localhost:8080/",
          "height": 265
        },
        "id": "HnF5ASJhThff",
        "outputId": "a00bf40d-2446-4280-c5bb-c12a52b4a10a"
      },
      "execution_count": 31,
      "outputs": [
        {
          "output_type": "display_data",
          "data": {
            "image/png": "[encoded data removed]",
            "text/plain": [
              "<Figure size 432x288 with 1 Axes>"
            ]
          },
          "metadata": {
            "needs_background": "light"
          }
        }
      ]
    },
    {
      "cell_type": "markdown",
      "source": [
        "##Eigen Vectors"
      ],
      "metadata": {
        "id": "Z8jxECK_UKOX"
      }
    },
    {
      "cell_type": "markdown",
      "source": [
        "An eigenvector (eigen is German for \"typical\"; we could translate eigenvector to \"characteristic vector\") is a special vector  𝑣  such that when it is transformed by some matrix (let's say  𝐴 ), the product  𝐴𝑣  has the exact same direction as  𝑣 ."
      ],
      "metadata": {
        "id": "HkiKHXLlUswe"
      }
    },
    {
      "cell_type": "code",
      "source": [
        "#That is the vector when transformed by some matrix A retains its spin"
      ],
      "metadata": {
        "id": "hObTl4rKTiL7"
      },
      "execution_count": 32,
      "outputs": []
    },
    {
      "cell_type": "markdown",
      "source": [
        "##Eigen Values"
      ],
      "metadata": {
        "id": "lkorQFHPXu5q"
      }
    },
    {
      "cell_type": "markdown",
      "source": [
        "An eigenvalue is a scalar (traditionally represented as  𝜆 ) that simply scales the eigenvector  𝑣  such that the following equation is satisfied:\n",
        "\n",
        "𝐴𝑣=𝜆𝑣\n",
        "\n",
        "This scalar gives the factor of change in length of the eigen vectors"
      ],
      "metadata": {
        "id": "GmYgD_ItX07E"
      }
    },
    {
      "cell_type": "code",
      "source": [
        "#We can use numpy to get our eigen vectors and values. Since we can solve it algebraically "
      ],
      "metadata": {
        "id": "SXg7o4htU9Vu"
      },
      "execution_count": 33,
      "outputs": []
    },
    {
      "cell_type": "code",
      "source": [
        "np.linalg.eig(A) \n",
        " #This returns lambda and v"
      ],
      "metadata": {
        "colab": {
          "base_uri": "https://localhost:8080/"
        },
        "id": "Jg4o64TTd_lQ",
        "outputId": "e8c00a4b-e7f7-4fb0-d71e-ca7a9f1123bd"
      },
      "execution_count": 34,
      "outputs": [
        {
          "output_type": "execute_result",
          "data": {
            "text/plain": [
              "(array([ 1.37228132, -4.37228132]), array([[ 0.86011126, -0.76454754],\n",
              "        [ 0.51010647,  0.64456735]]))"
            ]
          },
          "metadata": {},
          "execution_count": 34
        }
      ]
    },
    {
      "cell_type": "code",
      "source": [
        "U = np.array([[-2,-2,4],[-4,1,2],[2,2,5]])\n",
        "T = U.T\n",
        "T"
      ],
      "metadata": {
        "colab": {
          "base_uri": "https://localhost:8080/"
        },
        "id": "NXRdSkVEigtK",
        "outputId": "7d65a750-df1e-4e42-95e2-1cdf237a1ef2"
      },
      "execution_count": 35,
      "outputs": [
        {
          "output_type": "execute_result",
          "data": {
            "text/plain": [
              "array([[-2, -4,  2],\n",
              "       [-2,  1,  2],\n",
              "       [ 4,  2,  5]])"
            ]
          },
          "metadata": {},
          "execution_count": 35
        }
      ]
    },
    {
      "cell_type": "code",
      "source": [
        "EVal,EVec = np.linalg.eig(T )"
      ],
      "metadata": {
        "id": "Ez2EgsDVjGN6"
      },
      "execution_count": 36,
      "outputs": []
    },
    {
      "cell_type": "code",
      "source": [
        "EVal"
      ],
      "metadata": {
        "colab": {
          "base_uri": "https://localhost:8080/"
        },
        "id": "ohY-ht2EjV7z",
        "outputId": "f10afa99-f4fb-417f-c890-e6cd9d285385"
      },
      "execution_count": 37,
      "outputs": [
        {
          "output_type": "execute_result",
          "data": {
            "text/plain": [
              "array([-5.,  3.,  6.])"
            ]
          },
          "metadata": {},
          "execution_count": 37
        }
      ]
    },
    {
      "cell_type": "code",
      "source": [
        "EVec"
      ],
      "metadata": {
        "colab": {
          "base_uri": "https://localhost:8080/"
        },
        "id": "ESt1JHEhmrCr",
        "outputId": "9a860dbf-14ef-41fd-b73e-ecf333742f4a"
      },
      "execution_count": 38,
      "outputs": [
        {
          "output_type": "execute_result",
          "data": {
            "text/plain": [
              "array([[ 0.81649658,  0.53452248,  0.05842062],\n",
              "       [ 0.40824829, -0.80178373,  0.35052374],\n",
              "       [-0.40824829, -0.26726124,  0.93472998]])"
            ]
          },
          "metadata": {},
          "execution_count": 38
        }
      ]
    },
    {
      "cell_type": "code",
      "source": [
        "#We can show this is correct since T.v = lam.v\n"
      ],
      "metadata": {
        "id": "ewmVTWr-nAc7"
      },
      "execution_count": 39,
      "outputs": []
    },
    {
      "cell_type": "code",
      "source": [
        "np.dot(T,EVec[:,0])"
      ],
      "metadata": {
        "colab": {
          "base_uri": "https://localhost:8080/"
        },
        "id": "NFr_MeUhqcKt",
        "outputId": "a126d205-952c-4736-de68-9ab78352ddc2"
      },
      "execution_count": 40,
      "outputs": [
        {
          "output_type": "execute_result",
          "data": {
            "text/plain": [
              "array([-4.0824829 , -2.04124145,  2.04124145])"
            ]
          },
          "metadata": {},
          "execution_count": 40
        }
      ]
    },
    {
      "cell_type": "code",
      "source": [
        "np.dot(EVal[0],EVec[:,0]) #One of the lamdas "
      ],
      "metadata": {
        "colab": {
          "base_uri": "https://localhost:8080/"
        },
        "id": "Cvf5gPx2qlxH",
        "outputId": "41735ba3-7f89-45c6-8695-7ec5911a9e6b"
      },
      "execution_count": 41,
      "outputs": [
        {
          "output_type": "execute_result",
          "data": {
            "text/plain": [
              "array([-4.0824829 , -2.04124145,  2.04124145])"
            ]
          },
          "metadata": {},
          "execution_count": 41
        }
      ]
    },
    {
      "cell_type": "markdown",
      "source": [
        "##Using Pytorch"
      ],
      "metadata": {
        "id": "GJDqn3Z8vLSG"
      }
    },
    {
      "cell_type": "code",
      "source": [
        "#Py torch gives you in complex number, if the number is real the j will have a coefficient of 0"
      ],
      "metadata": {
        "id": "jEiexDoDrLzw"
      },
      "execution_count": 42,
      "outputs": []
    },
    {
      "cell_type": "code",
      "source": [
        "T_t = torch.tensor(([[-2, -4,  2],[-2,  1,  2],[ 4,  2,  5.]]))\n",
        "T_t"
      ],
      "metadata": {
        "colab": {
          "base_uri": "https://localhost:8080/"
        },
        "id": "VKgkglIg0MYd",
        "outputId": "bcbb9782-2669-4770-c63a-e6b2bd8cf7a5"
      },
      "execution_count": 43,
      "outputs": [
        {
          "output_type": "execute_result",
          "data": {
            "text/plain": [
              "tensor([[-2., -4.,  2.],\n",
              "        [-2.,  1.,  2.],\n",
              "        [ 4.,  2.,  5.]])"
            ]
          },
          "metadata": {},
          "execution_count": 43
        }
      ]
    },
    {
      "cell_type": "code",
      "source": [
        "torch.linalg.eig(T_t)"
      ],
      "metadata": {
        "colab": {
          "base_uri": "https://localhost:8080/"
        },
        "id": "fODvQiv20kop",
        "outputId": "f56df829-1b32-41fd-829f-90a3331163c7"
      },
      "execution_count": 44,
      "outputs": [
        {
          "output_type": "execute_result",
          "data": {
            "text/plain": [
              "torch.return_types.linalg_eig(eigenvalues=tensor([-5.0000+0.j,  3.0000+0.j,  6.0000+0.j]), eigenvectors=tensor([[-0.8165+0.j, -0.5345+0.j,  0.0584+0.j],\n",
              "        [-0.4082+0.j,  0.8018+0.j,  0.3505+0.j],\n",
              "        [ 0.4082+0.j,  0.2673+0.j,  0.9347+0.j]]))"
            ]
          },
          "metadata": {},
          "execution_count": 44
        }
      ]
    },
    {
      "cell_type": "code",
      "source": [
        "torch.linalg.eig(T_t)"
      ],
      "metadata": {
        "colab": {
          "base_uri": "https://localhost:8080/"
        },
        "id": "zX6a_CAQ01de",
        "outputId": "c26b4f72-6509-4cde-80f0-7e8c277c9439"
      },
      "execution_count": 45,
      "outputs": [
        {
          "output_type": "execute_result",
          "data": {
            "text/plain": [
              "torch.return_types.linalg_eig(eigenvalues=tensor([-5.0000+0.j,  3.0000+0.j,  6.0000+0.j]), eigenvectors=tensor([[-0.8165+0.j, -0.5345+0.j,  0.0584+0.j],\n",
              "        [-0.4082+0.j,  0.8018+0.j,  0.3505+0.j],\n",
              "        [ 0.4082+0.j,  0.2673+0.j,  0.9347+0.j]]))"
            ]
          },
          "metadata": {},
          "execution_count": 45
        }
      ]
    },
    {
      "cell_type": "markdown",
      "source": [
        "##Determinant of a matrix "
      ],
      "metadata": {
        "id": "uJBKvtDX1g_c"
      }
    },
    {
      "cell_type": "code",
      "source": [
        "#If det(X) is zero then it cannot be inverted, then they are called singular matrix!"
      ],
      "metadata": {
        "id": "PLd7QbLg1MOI"
      },
      "execution_count": 46,
      "outputs": []
    },
    {
      "cell_type": "code",
      "source": [
        "#Numpy\n",
        "np.linalg.det(T)"
      ],
      "metadata": {
        "colab": {
          "base_uri": "https://localhost:8080/"
        },
        "id": "aa1KDPz014Pt",
        "outputId": "670edfaa-a0c6-4047-9e96-4185828c5d64"
      },
      "execution_count": 47,
      "outputs": [
        {
          "output_type": "execute_result",
          "data": {
            "text/plain": [
              "-90.0"
            ]
          },
          "metadata": {},
          "execution_count": 47
        }
      ]
    },
    {
      "cell_type": "code",
      "source": [
        "#Torch\n",
        "torch.linalg.det(T_t) #It must be a float"
      ],
      "metadata": {
        "colab": {
          "base_uri": "https://localhost:8080/"
        },
        "id": "TMMt3Knq2HGH",
        "outputId": "4672f31c-89e8-4366-85b5-613329b6bb41"
      },
      "execution_count": 48,
      "outputs": [
        {
          "output_type": "execute_result",
          "data": {
            "text/plain": [
              "tensor(-90.)"
            ]
          },
          "metadata": {},
          "execution_count": 48
        }
      ]
    },
    {
      "cell_type": "markdown",
      "source": [
        "##Application of EigenValues and EigenVectors"
      ],
      "metadata": {
        "id": "6LJ_ptnf4Y_a"
      }
    },
    {
      "cell_type": "code",
      "source": [
        "#It has so many applications we will use them when the time comes!\n"
      ],
      "metadata": {
        "id": "ZvHf_16u2O_U"
      },
      "execution_count": 49,
      "outputs": []
    },
    {
      "cell_type": "markdown",
      "source": [
        "The Eigen values product is always equal to the value of the determinant"
      ],
      "metadata": {
        "id": "5fVJ8VLm-GCR"
      }
    },
    {
      "cell_type": "code",
      "source": [
        "EVal,EVec = np.linalg.eig(T )\n",
        "EVal"
      ],
      "metadata": {
        "id": "CT523gFa5Kdg",
        "colab": {
          "base_uri": "https://localhost:8080/"
        },
        "outputId": "27b919ed-cdd4-44cb-86ba-ca80f81b64a0"
      },
      "execution_count": 51,
      "outputs": [
        {
          "output_type": "execute_result",
          "data": {
            "text/plain": [
              "array([-5.,  3.,  6.])"
            ]
          },
          "metadata": {},
          "execution_count": 51
        }
      ]
    },
    {
      "cell_type": "code",
      "source": [
        "np.product(EVal)"
      ],
      "metadata": {
        "colab": {
          "base_uri": "https://localhost:8080/"
        },
        "id": "k0-WHMDo_Bc7",
        "outputId": "59ee14c1-9695-4b01-8495-056082d8d64d"
      },
      "execution_count": 53,
      "outputs": [
        {
          "output_type": "execute_result",
          "data": {
            "text/plain": [
              "-90.00000000000001"
            ]
          },
          "metadata": {},
          "execution_count": 53
        }
      ]
    },
    {
      "cell_type": "code",
      "source": [
        "#The |det(A)| has a lot to say whether it contrast or expands the volume of the vector or tensor it interacts with"
      ],
      "metadata": {
        "id": "Ru5RxSgv_Moh"
      },
      "execution_count": 54,
      "outputs": []
    },
    {
      "cell_type": "code",
      "source": [
        "#Consider B \n",
        "B = np.array([[1,0],[0,1]])\n",
        "B"
      ],
      "metadata": {
        "colab": {
          "base_uri": "https://localhost:8080/"
        },
        "id": "JteDAUwlAIJN",
        "outputId": "63c04a9d-c7b9-4057-f764-22b331f6b254"
      },
      "execution_count": 55,
      "outputs": [
        {
          "output_type": "execute_result",
          "data": {
            "text/plain": [
              "array([[1, 0],\n",
              "       [0, 1]])"
            ]
          },
          "metadata": {},
          "execution_count": 55
        }
      ]
    },
    {
      "cell_type": "code",
      "source": [
        "plot_vectors([vectorfy(B, 0), vectorfy(B, 1)],\n",
        "            ['lightblue', 'lightgreen'])\n",
        "plt.xlim(-1, 3)\n",
        "_ = plt.ylim(-1, 3)"
      ],
      "metadata": {
        "colab": {
          "base_uri": "https://localhost:8080/",
          "height": 269
        },
        "id": "DnsLXdNwAUSY",
        "outputId": "d6853746-30b4-4fde-8b6b-277a37f2ba9c"
      },
      "execution_count": 61,
      "outputs": [
        {
          "output_type": "display_data",
          "data": {
            "image/png": "[encoded data removed]",
            "text/plain": [
              "<Figure size 432x288 with 1 Axes>"
            ]
          },
          "metadata": {
            "needs_background": "light"
          }
        }
      ]
    },
    {
      "cell_type": "markdown",
      "source": [
        "## Eigendecomposition"
      ],
      "metadata": {
        "id": "4vZFO587Dv8A"
      }
    },
    {
      "cell_type": "markdown",
      "source": [
        "P = V/\\V(inverse) since all diagonal matrices are Abelian. And lamda  is to arrange the eigen values in descending order; as a result, the first eigenvalue (and its associated eigenvector) may be a primary characteristic of the matrix "
      ],
      "metadata": {
        "id": "2c1DOlocGlF_"
      }
    },
    {
      "cell_type": "code",
      "source": [
        ""
      ],
      "metadata": {
        "id": "IYFlAy1xBCnj"
      },
      "execution_count": null,
      "outputs": []
    }
  ]
}