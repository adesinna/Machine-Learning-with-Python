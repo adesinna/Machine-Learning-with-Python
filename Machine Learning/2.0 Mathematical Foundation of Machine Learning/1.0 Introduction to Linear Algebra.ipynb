{
  "nbformat": 4,
  "nbformat_minor": 0,
  "metadata": {
    "colab": {
      "name": "Introduction to Linear Algebra.ipynb",
      "provenance": [],
      "collapsed_sections": []
    },
    "kernelspec": {
      "name": "python3",
      "display_name": "Python 3"
    },
    "language_info": {
      "name": "python"
    }
  },
  "cells": [
    {
      "cell_type": "code",
      "source": [
        "print('hello world')"
      ],
      "metadata": {
        "colab": {
          "base_uri": "https://localhost:8080/"
        },
        "id": "1M3CXwS8sG4K",
        "outputId": "25b57207-3c31-44bc-ccc5-109ab8e577fa"
      },
      "execution_count": 1,
      "outputs": [
        {
          "output_type": "stream",
          "name": "stdout",
          "text": [
            "hello world\n"
          ]
        }
      ]
    },
    {
      "cell_type": "code",
      "source": [
        "#This is a python notebook that we are going to be using for mathematics foundations of Machine Learning.Good Luck!"
      ],
      "metadata": {
        "id": "dP5i8J0vsOig"
      },
      "execution_count": 2,
      "outputs": []
    },
    {
      "cell_type": "markdown",
      "source": [
        ""
      ],
      "metadata": {
        "id": "JGENdF8VsPZI"
      }
    },
    {
      "cell_type": "markdown",
      "source": [
        "Consider the situation where a bank robber is running away with a speed of 2.5m/min and the cop is chasing the robber at a speed of 3m/min when will the cop meet the robber. When we solve this problem algebraically we get time to be 30min and distance will be 75m.\n",
        "So the solution is (30,75). \n",
        "In Linear Algebra, we have unique solution, no solution or infinite solutions. "
      ],
      "metadata": {
        "id": "Y9-DBH0quVqa"
      }
    },
    {
      "cell_type": "code",
      "source": [
        ""
      ],
      "metadata": {
        "id": "p1YX25rPu-YL"
      },
      "execution_count": null,
      "outputs": []
    },
    {
      "cell_type": "markdown",
      "source": [
        "##Tensors"
      ],
      "metadata": {
        "id": "aVgbzZmPdY56"
      }
    },
    {
      "cell_type": "markdown",
      "source": [
        "Consider our thief and cop model. We use matplotlib to solve it graphically."
      ],
      "metadata": {
        "id": "wMhShQa5ddqh"
      }
    },
    {
      "cell_type": "code",
      "source": [
        "import numpy as np\n",
        "import matplotlib.pyplot as plt"
      ],
      "metadata": {
        "id": "F89Eu9e8da48"
      },
      "execution_count": 3,
      "outputs": []
    },
    {
      "cell_type": "markdown",
      "source": [
        "We get the range for the time axis t, using np.linespace"
      ],
      "metadata": {
        "id": "qO1ioBw9eoAv"
      }
    },
    {
      "cell_type": "code",
      "source": [
        "t = np.linspace(0, 50, 1000) # start, finish, n points\n"
      ],
      "metadata": {
        "id": "V3UbMp6deRkJ"
      },
      "execution_count": 13,
      "outputs": []
    },
    {
      "cell_type": "markdown",
      "source": [
        "The distance travelled by thief is given as\n",
        "d_r =  2.5*t\n",
        "\n",
        "While the distance travelled by police is \n",
        "d_p = 3.0*(t-5)"
      ],
      "metadata": {
        "id": "2UfE99jifENf"
      }
    },
    {
      "cell_type": "code",
      "source": [
        "d_r = 2.5*t\n",
        "d_p = 3.0*(t-5)"
      ],
      "metadata": {
        "id": "2m5GQTNEfoYf"
      },
      "execution_count": 14,
      "outputs": []
    },
    {
      "cell_type": "code",
      "source": [
        "fig, ax = plt.subplots()\n",
        "plt.title('A Bank Robber Caught')\n",
        "plt.xlabel('time (in minutes)')\n",
        "plt.ylabel('distance (in km)')\n",
        "ax.set_xlim([0, 50])\n",
        "ax.set_ylim([0, 100])\n",
        "ax.plot(t, d_r, c='green')\n",
        "ax.plot(t, d_p, c='brown')\n",
        "plt.axvline(x=30, color='blue', linestyle='--')\n",
        "_ = plt.axhline(y=75, color='purple', linestyle='--')"
      ],
      "metadata": {
        "colab": {
          "base_uri": "https://localhost:8080/",
          "height": 295
        },
        "id": "YgEVSsOkeKqp",
        "outputId": "c353dd51-31fe-4b12-a4f2-9b9cf663f696"
      },
      "execution_count": 17,
      "outputs": [
        {
          "output_type": "display_data",
          "data": {
            "image/png": "[encoded data removed]",
            "text/plain": [
              "<Figure size 432x288 with 1 Axes>"
            ]
          },
          "metadata": {
            "needs_background": "light"
          }
        }
      ]
    },
    {
      "cell_type": "code",
      "source": [
        ""
      ],
      "metadata": {
        "id": "Hk1cqcefflzu"
      },
      "execution_count": null,
      "outputs": []
    },
    {
      "cell_type": "markdown",
      "source": [
        "##Exercise \n",
        "Yemi designs solar power plants, on April 1st, he designs M1 panel with 1kj/day, and 30 days later he made another one, M2 with 4kj/day. If Tolani bought M1 when Yemi did it and Zonto bought M2 when he launched, In how many days will they have generated same energy. What is the amount of energy generated!"
      ],
      "metadata": {
        "id": "1IaQFuEqhETO"
      }
    },
    {
      "cell_type": "code",
      "source": [
        "d = np.linspace(0, 50, 1000) # start, finish, n points\n",
        "M1 = 1*d\n",
        "M2 = 4*(d-30)\n",
        "\n",
        "fig, ax = plt.subplots()\n",
        "plt.title('Enegry')\n",
        "plt.xlabel('time (in days)')\n",
        "plt.ylabel('Energy (in KJ)')\n",
        "ax.set_xlim([0, 100])\n",
        "ax.set_ylim([0, 100])\n",
        "ax.plot(t, M1, c='green')\n",
        "ax.plot(t, M2, c='brown')\n",
        "plt.axvline(x=40, color='blue', linestyle='--')\n",
        "_ = plt.axhline(y=40, color='purple', linestyle='--')"
      ],
      "metadata": {
        "colab": {
          "base_uri": "https://localhost:8080/",
          "height": 295
        },
        "id": "syqEUCIti_I_",
        "outputId": "939bcf15-2202-41ea-de74-ff66cc92f3af"
      },
      "execution_count": 20,
      "outputs": [
        {
          "output_type": "display_data",
          "data": {
            "image/png": "[encoded data removed]",
            "text/plain": [
              "<Figure size 432x288 with 1 Axes>"
            ]
          },
          "metadata": {
            "needs_background": "light"
          }
        }
      ]
    },
    {
      "cell_type": "markdown",
      "source": [
        "Solution to the graph above is (40,40)"
      ],
      "metadata": {
        "id": "ATC7VURlkwud"
      }
    },
    {
      "cell_type": "code",
      "source": [
        ""
      ],
      "metadata": {
        "id": "wbDL9EMDjpTm"
      },
      "execution_count": null,
      "outputs": []
    },
    {
      "cell_type": "markdown",
      "source": [
        "Tensors are defined as ML generalization of matrices and vectors"
      ],
      "metadata": {
        "id": "DJoxOjHPk3rX"
      }
    },
    {
      "cell_type": "code",
      "source": [
        ""
      ],
      "metadata": {
        "id": "kx9LHXomk7nI"
      },
      "execution_count": null,
      "outputs": []
    },
    {
      "cell_type": "markdown",
      "source": [
        "###Scalars\n",
        "Scalars is a zero dimension Tensors. They just have numerical values and denoted with just small letters"
      ],
      "metadata": {
        "id": "K4OIzoselr7g"
      }
    },
    {
      "cell_type": "code",
      "source": [
        "x = 45"
      ],
      "metadata": {
        "id": "D-aS9dTWl3y6"
      },
      "execution_count": 21,
      "outputs": []
    },
    {
      "cell_type": "code",
      "source": [
        "type(x)"
      ],
      "metadata": {
        "colab": {
          "base_uri": "https://localhost:8080/"
        },
        "id": "D5kTyk--mR8X",
        "outputId": "1f58dd91-aefa-4dc2-93d7-470452cfca17"
      },
      "execution_count": 22,
      "outputs": [
        {
          "output_type": "execute_result",
          "data": {
            "text/plain": [
              "int"
            ]
          },
          "metadata": {},
          "execution_count": 22
        }
      ]
    },
    {
      "cell_type": "code",
      "source": [
        "#We can do different operations in Scalars, +,* "
      ],
      "metadata": {
        "id": "WEwWEw17meFf"
      },
      "execution_count": 23,
      "outputs": []
    },
    {
      "cell_type": "markdown",
      "source": [
        "In some ML cases, 32bit or 64bit will be required, we would still learn more about them later in the future!\n",
        "So we use numpy"
      ],
      "metadata": {
        "id": "ELjNMxpun8cK"
      }
    },
    {
      "cell_type": "code",
      "source": [
        "import numpy as np\n"
      ],
      "metadata": {
        "id": "xBGMaWMdm2vF"
      },
      "execution_count": 25,
      "outputs": []
    },
    {
      "cell_type": "markdown",
      "source": [
        "Scalars in PyTorch\n",
        "PyTorch and TensorFlow are the two most popular automatic differentiation libraries \n"
      ],
      "metadata": {
        "id": "9BKmMG2-pOYW"
      }
    },
    {
      "cell_type": "code",
      "source": [
        "import torch"
      ],
      "metadata": {
        "id": "wjZP6IF0om-F"
      },
      "execution_count": 26,
      "outputs": []
    },
    {
      "cell_type": "code",
      "source": [
        "x_pt = torch.tensor(25) # type specification optional, e.g.: dtype=torch.float16\n",
        "x_pt"
      ],
      "metadata": {
        "colab": {
          "base_uri": "https://localhost:8080/"
        },
        "id": "0IIOoCejqeFd",
        "outputId": "6dba7b89-c477-4a53-9976-dc2f5629e84a"
      },
      "execution_count": 28,
      "outputs": [
        {
          "output_type": "execute_result",
          "data": {
            "text/plain": [
              "tensor(25)"
            ]
          },
          "metadata": {},
          "execution_count": 28
        }
      ]
    },
    {
      "cell_type": "code",
      "source": [
        "import tensorflow as tf"
      ],
      "metadata": {
        "id": "RKfd62pbpt5U"
      },
      "execution_count": 30,
      "outputs": []
    },
    {
      "cell_type": "code",
      "source": [
        "x_tf = tf.Variable(25, dtype=tf.int16) # dtype is optional\n",
        "x_tf"
      ],
      "metadata": {
        "colab": {
          "base_uri": "https://localhost:8080/"
        },
        "id": "VhTHINQgp2j_",
        "outputId": "ccf70476-7daf-4bb4-82db-ba81fb7261b8"
      },
      "execution_count": 31,
      "outputs": [
        {
          "output_type": "execute_result",
          "data": {
            "text/plain": [
              "<tf.Variable 'Variable:0' shape=() dtype=int16, numpy=25>"
            ]
          },
          "metadata": {},
          "execution_count": 31
        }
      ]
    },
    {
      "cell_type": "markdown",
      "source": [
        "#VECTORS"
      ],
      "metadata": {
        "id": "GuWkPZfYs5yF"
      }
    },
    {
      "cell_type": "markdown",
      "source": [
        "Vectors are one dimensional tensors, each of the elements in a vectors are scalars and they can be created using Numpy,Tensorflows and pytorch Libraries.\n",
        "We will learn a lot on the appropriate library when we need them.\n",
        "Vectors with length n represents a point in n-dimensional space. Humans can only visualize 3D, but the computers understands n dimensional spaces. Since scalars have rank 0, Vectors have rank 1. They are called rank 1 Tensors"
      ],
      "metadata": {
        "id": "HSPm36Qws9sC"
      }
    },
    {
      "cell_type": "markdown",
      "source": [
        "###Vectors (Rank 1 Tensors) in NumPy\n"
      ],
      "metadata": {
        "id": "J68Mc2AHty2T"
      }
    },
    {
      "cell_type": "code",
      "source": [
        "import numpy as np\n"
      ],
      "metadata": {
        "id": "XN_lrA94qyvr"
      },
      "execution_count": 32,
      "outputs": []
    },
    {
      "cell_type": "code",
      "source": [
        "#We can create vectors"
      ],
      "metadata": {
        "id": "eLNenfREvnsf"
      },
      "execution_count": 33,
      "outputs": []
    },
    {
      "cell_type": "code",
      "source": [
        "x = np.array([-1,3,4])\n",
        "x"
      ],
      "metadata": {
        "colab": {
          "base_uri": "https://localhost:8080/"
        },
        "id": "HvGSvc1_wNzQ",
        "outputId": "eba5a381-09bd-484f-9a5b-3b5503a2d2c2"
      },
      "execution_count": 35,
      "outputs": [
        {
          "output_type": "execute_result",
          "data": {
            "text/plain": [
              "array([-1,  3,  4])"
            ]
          },
          "metadata": {},
          "execution_count": 35
        }
      ]
    },
    {
      "cell_type": "code",
      "source": [
        "len(x)"
      ],
      "metadata": {
        "colab": {
          "base_uri": "https://localhost:8080/"
        },
        "id": "VfZqTYlTwUjC",
        "outputId": "35d55805-d653-4f56-802f-d6cb18cda4d2"
      },
      "execution_count": 36,
      "outputs": [
        {
          "output_type": "execute_result",
          "data": {
            "text/plain": [
              "3"
            ]
          },
          "metadata": {},
          "execution_count": 36
        }
      ]
    },
    {
      "cell_type": "code",
      "source": [
        "type(x)"
      ],
      "metadata": {
        "colab": {
          "base_uri": "https://localhost:8080/"
        },
        "id": "6L6jM6_Uwi19",
        "outputId": "b5bcce51-7577-4b57-e918-a778fb5b27e4"
      },
      "execution_count": 37,
      "outputs": [
        {
          "output_type": "execute_result",
          "data": {
            "text/plain": [
              "numpy.ndarray"
            ]
          },
          "metadata": {},
          "execution_count": 37
        }
      ]
    },
    {
      "cell_type": "code",
      "source": [
        "#We can do indexing "
      ],
      "metadata": {
        "id": "I4QLzwPEwljb"
      },
      "execution_count": 38,
      "outputs": []
    },
    {
      "cell_type": "code",
      "source": [
        "print(x[0])\n",
        "print(x[1])\n",
        "print(x[2])"
      ],
      "metadata": {
        "colab": {
          "base_uri": "https://localhost:8080/"
        },
        "id": "1UTaMimPwqQS",
        "outputId": "f82b8e5f-02f3-40d9-bc10-b3dc8f6e3c6c"
      },
      "execution_count": 40,
      "outputs": [
        {
          "output_type": "stream",
          "name": "stdout",
          "text": [
            "-1\n",
            "3\n",
            "4\n"
          ]
        }
      ]
    },
    {
      "cell_type": "code",
      "source": [
        "#We can also do slicing of arrays"
      ],
      "metadata": {
        "id": "FZHaiPa4wuND"
      },
      "execution_count": 41,
      "outputs": []
    },
    {
      "cell_type": "code",
      "source": [
        "x[:]"
      ],
      "metadata": {
        "colab": {
          "base_uri": "https://localhost:8080/"
        },
        "id": "wVcxNl8fxCDW",
        "outputId": "a74f48d5-4526-4a03-db9a-c1cfe5f2caa9"
      },
      "execution_count": 42,
      "outputs": [
        {
          "output_type": "execute_result",
          "data": {
            "text/plain": [
              "array([-1,  3,  4])"
            ]
          },
          "metadata": {},
          "execution_count": 42
        }
      ]
    },
    {
      "cell_type": "code",
      "source": [
        "#WE can also transpose the vector"
      ],
      "metadata": {
        "id": "mrA8-dgYxDcU"
      },
      "execution_count": 43,
      "outputs": []
    },
    {
      "cell_type": "code",
      "source": [
        "x.shape"
      ],
      "metadata": {
        "colab": {
          "base_uri": "https://localhost:8080/"
        },
        "id": "LrnurNKIxJo5",
        "outputId": "e5bc18ff-dd2b-465a-dda4-225ec704a987"
      },
      "execution_count": 44,
      "outputs": [
        {
          "output_type": "execute_result",
          "data": {
            "text/plain": [
              "(3,)"
            ]
          },
          "metadata": {},
          "execution_count": 44
        }
      ]
    },
    {
      "cell_type": "code",
      "source": [
        "x.T"
      ],
      "metadata": {
        "colab": {
          "base_uri": "https://localhost:8080/"
        },
        "id": "4lAzu9MExQW0",
        "outputId": "88b15931-9213-4da4-d5c7-83361e94f69a"
      },
      "execution_count": 45,
      "outputs": [
        {
          "output_type": "execute_result",
          "data": {
            "text/plain": [
              "array([-1,  3,  4])"
            ]
          },
          "metadata": {},
          "execution_count": 45
        }
      ]
    },
    {
      "cell_type": "code",
      "source": [
        "x.T.shape"
      ],
      "metadata": {
        "colab": {
          "base_uri": "https://localhost:8080/"
        },
        "id": "-L3ALJYmxVLR",
        "outputId": "5876068e-fcdd-4a35-87a3-2d8259cd71e9"
      },
      "execution_count": 46,
      "outputs": [
        {
          "output_type": "execute_result",
          "data": {
            "text/plain": [
              "(3,)"
            ]
          },
          "metadata": {},
          "execution_count": 46
        }
      ]
    },
    {
      "cell_type": "code",
      "source": [
        "#To allow the shape to be change will need [[]]"
      ],
      "metadata": {
        "id": "FzAQcA9wxY5C"
      },
      "execution_count": 47,
      "outputs": []
    },
    {
      "cell_type": "code",
      "source": [
        "x_new = np.array([[2,3,4,5]])"
      ],
      "metadata": {
        "id": "H9jBleH7xrz9"
      },
      "execution_count": 48,
      "outputs": []
    },
    {
      "cell_type": "code",
      "source": [
        "x_new.shape"
      ],
      "metadata": {
        "colab": {
          "base_uri": "https://localhost:8080/"
        },
        "id": "gd7_Zj0NxyO4",
        "outputId": "b4f78a54-4e3c-40c0-af12-42876c2ac76a"
      },
      "execution_count": 49,
      "outputs": [
        {
          "output_type": "execute_result",
          "data": {
            "text/plain": [
              "(1, 4)"
            ]
          },
          "metadata": {},
          "execution_count": 49
        }
      ]
    },
    {
      "cell_type": "code",
      "source": [
        "x_new.T"
      ],
      "metadata": {
        "colab": {
          "base_uri": "https://localhost:8080/"
        },
        "id": "hbhUhlBlx1ZI",
        "outputId": "b63a55ac-e3c2-4fa4-c422-ee35a536698a"
      },
      "execution_count": 50,
      "outputs": [
        {
          "output_type": "execute_result",
          "data": {
            "text/plain": [
              "array([[2],\n",
              "       [3],\n",
              "       [4],\n",
              "       [5]])"
            ]
          },
          "metadata": {},
          "execution_count": 50
        }
      ]
    },
    {
      "cell_type": "code",
      "source": [
        "x_new.T.shape"
      ],
      "metadata": {
        "colab": {
          "base_uri": "https://localhost:8080/"
        },
        "id": "9kIKXaUlx6Zc",
        "outputId": "c5bc1e86-1387-428b-9c1c-378c51942f66"
      },
      "execution_count": 51,
      "outputs": [
        {
          "output_type": "execute_result",
          "data": {
            "text/plain": [
              "(4, 1)"
            ]
          },
          "metadata": {},
          "execution_count": 51
        }
      ]
    },
    {
      "cell_type": "code",
      "source": [
        "#We can also create zero vectors"
      ],
      "metadata": {
        "id": "DnCD-3iKyAvG"
      },
      "execution_count": 52,
      "outputs": []
    },
    {
      "cell_type": "code",
      "source": [
        "zero = np.zeros(3)\n",
        "print(zero)"
      ],
      "metadata": {
        "colab": {
          "base_uri": "https://localhost:8080/"
        },
        "id": "ZQJ2m3YTyHCC",
        "outputId": "7701cfae-201c-4f38-80fe-a73b459fbc4b"
      },
      "execution_count": 54,
      "outputs": [
        {
          "output_type": "stream",
          "name": "stdout",
          "text": [
            "[0. 0. 0.]\n"
          ]
        }
      ]
    },
    {
      "cell_type": "markdown",
      "source": [
        "##Vectors in PyTorch and TensorFlow"
      ],
      "metadata": {
        "id": "vrm8a03QydBX"
      }
    },
    {
      "cell_type": "code",
      "source": [
        "import torch\n",
        "import tensorflow as tf\n"
      ],
      "metadata": {
        "id": "IGJamAehyMQf"
      },
      "execution_count": 59,
      "outputs": []
    },
    {
      "cell_type": "code",
      "source": [
        "#Vectors can also be created in PYTorch\n",
        "x_pt = torch.tensor([2,3,4])\n",
        "x_pt"
      ],
      "metadata": {
        "colab": {
          "base_uri": "https://localhost:8080/"
        },
        "id": "lyJiTKEOynpA",
        "outputId": "d1daa051-5ee4-4288-fb72-fe45ea838040"
      },
      "execution_count": 58,
      "outputs": [
        {
          "output_type": "execute_result",
          "data": {
            "text/plain": [
              "tensor([2, 3, 4])"
            ]
          },
          "metadata": {},
          "execution_count": 58
        }
      ]
    },
    {
      "cell_type": "code",
      "source": [
        "#Vectors can be created in TensorFlow"
      ],
      "metadata": {
        "id": "7AT3XtM1yzt4"
      },
      "execution_count": 60,
      "outputs": []
    },
    {
      "cell_type": "code",
      "source": [
        "x_tf = tf.Variable([2,4,5,5])\n",
        "x_tf"
      ],
      "metadata": {
        "colab": {
          "base_uri": "https://localhost:8080/"
        },
        "id": "nn_zCTQT0Bdf",
        "outputId": "fca1f898-2c6c-461e-bad7-5be3207d01c7"
      },
      "execution_count": 62,
      "outputs": [
        {
          "output_type": "execute_result",
          "data": {
            "text/plain": [
              "<tf.Variable 'Variable:0' shape=(4,) dtype=int32, numpy=array([2, 4, 5, 5], dtype=int32)>"
            ]
          },
          "metadata": {},
          "execution_count": 62
        }
      ]
    },
    {
      "cell_type": "markdown",
      "source": [
        "##Norms and Units vector"
      ],
      "metadata": {
        "id": "dzFNfEZm0da1"
      }
    },
    {
      "cell_type": "code",
      "source": [
        "#Since vectors have magnitude, the is the length of a given vectors. The norm is the magnitude and we do have different type of norms.\n",
        "#The Euclidean norm or the L2 norm is the most popular norm\n",
        "#We have different type of norms and satisfies the norm axioms.\n",
        "#Example is the L2,Lp,Lmax etc\n",
        "#Each kind of norm has one advantage over the other!"
      ],
      "metadata": {
        "id": "5EY5G41z0MgH"
      },
      "execution_count": 74,
      "outputs": []
    },
    {
      "cell_type": "code",
      "source": [
        "x"
      ],
      "metadata": {
        "colab": {
          "base_uri": "https://localhost:8080/"
        },
        "id": "K_Y9CXPY09T1",
        "outputId": "d83e530f-f83a-4ea3-a673-5dec87595d91"
      },
      "execution_count": 70,
      "outputs": [
        {
          "output_type": "execute_result",
          "data": {
            "text/plain": [
              "array([-1,  3,  4])"
            ]
          },
          "metadata": {},
          "execution_count": 70
        }
      ]
    },
    {
      "cell_type": "code",
      "source": [
        "np.linalg.norm(x)"
      ],
      "metadata": {
        "colab": {
          "base_uri": "https://localhost:8080/"
        },
        "id": "ZbQN-9qL3ItL",
        "outputId": "c6d2a0ca-8780-4b27-84e5-0552f02f32c6"
      },
      "execution_count": 71,
      "outputs": [
        {
          "output_type": "execute_result",
          "data": {
            "text/plain": [
              "5.0990195135927845"
            ]
          },
          "metadata": {},
          "execution_count": 71
        }
      ]
    },
    {
      "cell_type": "code",
      "source": [
        "#Unit vectors are vectors whose L2 is 1. The vector divided by the magnitude\n"
      ],
      "metadata": {
        "id": "Tt2YKynm3NVz"
      },
      "execution_count": 75,
      "outputs": []
    },
    {
      "cell_type": "markdown",
      "source": [
        "##Basis Vectors"
      ],
      "metadata": {
        "id": "TJEH2Qqn9T1Z"
      }
    },
    {
      "cell_type": "code",
      "source": [
        "#Basis Vectors are units vectors that spans the entire vector space!\n",
        "#i,j,k are examples\n",
        "#All the vector is zero except the ith value which is 1, and it is the direction of the unit vector"
      ],
      "metadata": {
        "id": "VOp_pgYT55vj"
      },
      "execution_count": 81,
      "outputs": []
    },
    {
      "cell_type": "markdown",
      "source": [
        "##Orthogonal Vectors"
      ],
      "metadata": {
        "id": "znhh5EnDAFIG"
      }
    },
    {
      "cell_type": "code",
      "source": [
        "#This are vectors that have 90 between them, their dot product is zero. In a n dimensionally vector the number of mutual orthogonal vectors is n.\n",
        "#XY = 0."
      ],
      "metadata": {
        "id": "ZVlhI-84_x_b"
      },
      "execution_count": 83,
      "outputs": []
    },
    {
      "cell_type": "markdown",
      "source": [
        "##Orthonormnal"
      ],
      "metadata": {
        "id": "66aBJGu-CG6K"
      }
    },
    {
      "cell_type": "code",
      "source": [
        "#Units vectors that are orthogonal are called orthonormal vectors!\n",
        "#i,j,k are Othonormal!"
      ],
      "metadata": {
        "id": "TulOuSGhCU_A"
      },
      "execution_count": 85,
      "outputs": []
    },
    {
      "cell_type": "markdown",
      "source": [
        "##Matrices(Rank 2 Tensors)"
      ],
      "metadata": {
        "id": "0-U_XwQzDZ96"
      }
    },
    {
      "cell_type": "code",
      "source": [
        "#Matrices are rank 2 tensors!\n",
        "# We can use numpy,Tensor Flow and Pytorch to create matrices"
      ],
      "metadata": {
        "id": "UPIFTuoVChBj"
      },
      "execution_count": 86,
      "outputs": []
    },
    {
      "cell_type": "markdown",
      "source": [
        "##Matrices in Numpy\n",
        "\n",
        "\n",
        "\n"
      ],
      "metadata": {
        "id": "tcB5PdAKEFDA"
      }
    },
    {
      "cell_type": "code",
      "source": [
        "# Use array() with nested brackets: \n",
        "X = np.array([[25, 2], [5, 26], [3, 7]])\n",
        "X"
      ],
      "metadata": {
        "colab": {
          "base_uri": "https://localhost:8080/"
        },
        "id": "mf2YNNHHD2P1",
        "outputId": "b3bfc131-a99e-4f2a-cecd-863bbe0cf06e"
      },
      "execution_count": 87,
      "outputs": [
        {
          "output_type": "execute_result",
          "data": {
            "text/plain": [
              "array([[25,  2],\n",
              "       [ 5, 26],\n",
              "       [ 3,  7]])"
            ]
          },
          "metadata": {},
          "execution_count": 87
        }
      ]
    },
    {
      "cell_type": "code",
      "source": [
        "type(X)"
      ],
      "metadata": {
        "colab": {
          "base_uri": "https://localhost:8080/"
        },
        "id": "2ZfibtA9EPo8",
        "outputId": "a514350b-7d54-4c24-ce54-580808e2e28f"
      },
      "execution_count": 89,
      "outputs": [
        {
          "output_type": "execute_result",
          "data": {
            "text/plain": [
              "numpy.ndarray"
            ]
          },
          "metadata": {},
          "execution_count": 89
        }
      ]
    },
    {
      "cell_type": "code",
      "source": [
        "X.shape"
      ],
      "metadata": {
        "colab": {
          "base_uri": "https://localhost:8080/"
        },
        "id": "Wnhn3zDUERvX",
        "outputId": "afb7603c-cb36-430a-d5d7-aee292c236de"
      },
      "execution_count": 90,
      "outputs": [
        {
          "output_type": "execute_result",
          "data": {
            "text/plain": [
              "(3, 2)"
            ]
          },
          "metadata": {},
          "execution_count": 90
        }
      ]
    },
    {
      "cell_type": "code",
      "source": [
        "print(X[0][1])"
      ],
      "metadata": {
        "colab": {
          "base_uri": "https://localhost:8080/"
        },
        "id": "SIQnJ_nyEYfl",
        "outputId": "fcace4bf-10a2-4f82-8984-c1b03a93f094"
      },
      "execution_count": 94,
      "outputs": [
        {
          "output_type": "stream",
          "name": "stdout",
          "text": [
            "2\n"
          ]
        }
      ]
    },
    {
      "cell_type": "code",
      "source": [
        "X[2,0]"
      ],
      "metadata": {
        "colab": {
          "base_uri": "https://localhost:8080/"
        },
        "id": "1IaXBGoNIMSq",
        "outputId": "955280a6-b9c2-434d-c85f-7039cf675b5d"
      },
      "execution_count": 102,
      "outputs": [
        {
          "output_type": "execute_result",
          "data": {
            "text/plain": [
              "3"
            ]
          },
          "metadata": {},
          "execution_count": 102
        }
      ]
    },
    {
      "cell_type": "code",
      "source": [
        "X[:,1]"
      ],
      "metadata": {
        "colab": {
          "base_uri": "https://localhost:8080/"
        },
        "id": "S7Ne3LYTEgOf",
        "outputId": "71e8e889-54bd-4c31-f110-9272f0508a95"
      },
      "execution_count": 96,
      "outputs": [
        {
          "output_type": "execute_result",
          "data": {
            "text/plain": [
              "array([ 2, 26,  7])"
            ]
          },
          "metadata": {},
          "execution_count": 96
        }
      ]
    },
    {
      "cell_type": "code",
      "source": [
        ""
      ],
      "metadata": {
        "id": "hFbPRNWPE9MP"
      },
      "execution_count": null,
      "outputs": []
    },
    {
      "cell_type": "markdown",
      "source": [
        "##Matrices in Tensor Flow and PyTorch"
      ],
      "metadata": {
        "id": "aEcdSSh8FVHv"
      }
    },
    {
      "cell_type": "code",
      "source": [
        "X_pt = torch.tensor([[25, 2], [5, 26], [3, 7]])\n",
        "X_pt\n"
      ],
      "metadata": {
        "colab": {
          "base_uri": "https://localhost:8080/"
        },
        "id": "G1aP-Br5Fc5Q",
        "outputId": "c6edc22d-fd3c-4b5a-8aaf-970d090a15e7"
      },
      "execution_count": 97,
      "outputs": [
        {
          "output_type": "execute_result",
          "data": {
            "text/plain": [
              "tensor([[25,  2],\n",
              "        [ 5, 26],\n",
              "        [ 3,  7]])"
            ]
          },
          "metadata": {},
          "execution_count": 97
        }
      ]
    },
    {
      "cell_type": "code",
      "source": [
        "X_pt[1,:]\n",
        "\n",
        "\n",
        "\n"
      ],
      "metadata": {
        "colab": {
          "base_uri": "https://localhost:8080/"
        },
        "id": "gSNI2AmFFgPM",
        "outputId": "da681391-414b-425d-c40c-c361e63649d4"
      },
      "execution_count": 98,
      "outputs": [
        {
          "output_type": "execute_result",
          "data": {
            "text/plain": [
              "tensor([ 5, 26])"
            ]
          },
          "metadata": {},
          "execution_count": 98
        }
      ]
    },
    {
      "cell_type": "code",
      "source": [
        "X_tf = tf.Variable([[25, 2], [5, 26], [3, 7]])\n",
        "X_tf"
      ],
      "metadata": {
        "colab": {
          "base_uri": "https://localhost:8080/"
        },
        "id": "5wzPz_7oFpB9",
        "outputId": "3930138f-849c-4956-dde6-b53ad05e2ad4"
      },
      "execution_count": 99,
      "outputs": [
        {
          "output_type": "execute_result",
          "data": {
            "text/plain": [
              "<tf.Variable 'Variable:0' shape=(3, 2) dtype=int32, numpy=\n",
              "array([[25,  2],\n",
              "       [ 5, 26],\n",
              "       [ 3,  7]], dtype=int32)>"
            ]
          },
          "metadata": {},
          "execution_count": 99
        }
      ]
    },
    {
      "cell_type": "code",
      "source": [
        "tf.rank(X_tf)"
      ],
      "metadata": {
        "colab": {
          "base_uri": "https://localhost:8080/"
        },
        "id": "J2QA7S2nFsO_",
        "outputId": "dd44a13c-9eff-48bb-f528-31d3551d9f02"
      },
      "execution_count": 100,
      "outputs": [
        {
          "output_type": "execute_result",
          "data": {
            "text/plain": [
              "<tf.Tensor: shape=(), dtype=int32, numpy=2>"
            ]
          },
          "metadata": {},
          "execution_count": 100
        }
      ]
    },
    {
      "cell_type": "code",
      "source": [
        ""
      ],
      "metadata": {
        "id": "gy_3FLySFvtJ"
      },
      "execution_count": null,
      "outputs": []
    },
    {
      "cell_type": "markdown",
      "source": [
        "##N Dimensional Tensors"
      ],
      "metadata": {
        "id": "q6yOc1aiFx7N"
      }
    },
    {
      "cell_type": "markdown",
      "source": [
        "As an example, rank 4 tensors are common for images, where each dimension corresponds to:\n",
        "\n",
        "Number of images in training batch, e.g., 32\n",
        "\n",
        "Image height in pixels, e.g., 28 for MNIST digits\n",
        "\n",
        "Image width in pixels, e.g., 28\n",
        "\n",
        "Number of color channels, e.g., 3 for full-color images (RGB)"
      ],
      "metadata": {
        "id": "WqhzMWi5GWN_"
      }
    },
    {
      "cell_type": "code",
      "source": [
        ""
      ],
      "metadata": {
        "id": "iWM-AT5lF04t"
      },
      "execution_count": null,
      "outputs": []
    }
  ]
}